{
 "cells": [
  {
   "cell_type": "markdown",
   "metadata": {},
   "source": [
    "# Python For Finance\n",
    "\n",
    "This workshop uses the **Investor Exchange API, and the Pandas & Matplotlib** Python libraries.\n",
    "\n",
    "This workshop is an adaptation of the posts by Gerogios Efstathopoulos and can be found here: https://www.learndatasci.com/tutorials/python-finance-part-yahoo-finance-api-pandas-matplotlib/"
   ]
  },
  {
   "cell_type": "markdown",
   "metadata": {},
   "source": [
    "## Quick overview of Python Lists and Dictionaries\n",
    "\n",
    "Before we dive into Python Pandas, here's a quick review of Lists and Dictionaries which will come in handy.\n",
    "\n",
    "#### Lists\n",
    "Lists in Python are a mutable (i.e. can change) fundamental data type, denoted by `[]` and consist of a series of any Python data types such as strings, integers, or even other lists and dictionaries. Items in a list can be repeated.\n",
    "\n",
    "Lists are indexed starting from 0 which means the first item in say a list called `my_list` can be accessed with `my_list[0]`."
   ]
  },
  {
   "cell_type": "code",
   "execution_count": 105,
   "metadata": {},
   "outputs": [
    {
     "data": {
      "text/plain": [
       "['AMZN', 'MSFT', 'TSLA', 'SPCE', 'GOOGL', 'NFLX', 'AAPL', 'AMZN', 'TSLA']"
      ]
     },
     "execution_count": 105,
     "metadata": {},
     "output_type": "execute_result"
    }
   ],
   "source": [
    "# Create the list\n",
    "stocks = ['AMZN', 'MSFT', 'TSLA', 'SPCE', 'GOOGL', 'NFLX', 'AAPL', 'AMZN', 'TSLA']\n",
    "\n",
    "# Display the list\n",
    "stocks"
   ]
  },
  {
   "cell_type": "code",
   "execution_count": 106,
   "metadata": {},
   "outputs": [
    {
     "data": {
      "text/plain": [
       "2"
      ]
     },
     "execution_count": 106,
     "metadata": {},
     "output_type": "execute_result"
    }
   ],
   "source": [
    "stocks.count('TSLA')"
   ]
  },
  {
   "cell_type": "code",
   "execution_count": 107,
   "metadata": {},
   "outputs": [
    {
     "data": {
      "text/plain": [
       "9"
      ]
     },
     "execution_count": 107,
     "metadata": {},
     "output_type": "execute_result"
    }
   ],
   "source": [
    "len(stocks)"
   ]
  },
  {
   "cell_type": "code",
   "execution_count": 108,
   "metadata": {},
   "outputs": [
    {
     "data": {
      "text/plain": [
       "'AMZN'"
      ]
     },
     "execution_count": 108,
     "metadata": {},
     "output_type": "execute_result"
    }
   ],
   "source": [
    "stocks[0]"
   ]
  },
  {
   "cell_type": "code",
   "execution_count": 109,
   "metadata": {},
   "outputs": [
    {
     "data": {
      "text/plain": [
       "'TSLA'"
      ]
     },
     "execution_count": 109,
     "metadata": {},
     "output_type": "execute_result"
    }
   ],
   "source": [
    "stocks[-1]"
   ]
  },
  {
   "cell_type": "code",
   "execution_count": 110,
   "metadata": {},
   "outputs": [
    {
     "data": {
      "text/plain": [
       "['AMZN',\n",
       " 'MSFT',\n",
       " 'TSLA',\n",
       " 'SPCE',\n",
       " 'GOOGL',\n",
       " 'NFLX',\n",
       " 'AAPL',\n",
       " 'AMZN',\n",
       " 'TSLA',\n",
       " 'TWTR']"
      ]
     },
     "execution_count": 110,
     "metadata": {},
     "output_type": "execute_result"
    }
   ],
   "source": [
    "# Add to the stock list\n",
    "stocks.append('TWTR')\n",
    "\n",
    "# Display new stock list\n",
    "stocks"
   ]
  },
  {
   "cell_type": "code",
   "execution_count": 111,
   "metadata": {},
   "outputs": [
    {
     "data": {
      "text/plain": [
       "['MSFT', 'TSLA', 'SPCE', 'GOOGL', 'NFLX', 'AAPL', 'AMZN', 'TSLA', 'TWTR']"
      ]
     },
     "execution_count": 111,
     "metadata": {},
     "output_type": "execute_result"
    }
   ],
   "source": [
    "stocks.remove('AMZN')\n",
    "\n",
    "# Display modified stock list\n",
    "stocks"
   ]
  },
  {
   "cell_type": "code",
   "execution_count": 112,
   "metadata": {},
   "outputs": [
    {
     "data": {
      "text/plain": [
       "['MSFT',\n",
       " 'TSLA',\n",
       " 'SPCE',\n",
       " 'GOOGL',\n",
       " 'NFLX',\n",
       " 'AAPL',\n",
       " 'AMZN',\n",
       " 'TSLA',\n",
       " 'TWTR',\n",
       " 'BABA',\n",
       " 'FB']"
      ]
     },
     "execution_count": 112,
     "metadata": {},
     "output_type": "execute_result"
    }
   ],
   "source": [
    "stocks.extend(['BABA', 'FB']) # Note this takes in an iterable such as a list to add to an existing list\n",
    "\n",
    "stocks"
   ]
  },
  {
   "cell_type": "markdown",
   "metadata": {},
   "source": [
    "#### Dictionaries\n",
    "Dictionaries in Python are also a mutable (i.e. can change) fundamental data type, denoted by `{}` and consist of **key:value pairs**. The keys must be unique in a dictionary. \n",
    "\n",
    "The main operations on a dictionary are storing a value with some key and extracting the value given the key."
   ]
  },
  {
   "cell_type": "code",
   "execution_count": 113,
   "metadata": {},
   "outputs": [
    {
     "data": {
      "text/plain": [
       "{'TSLA': 561.25, 'GOOGL': 1469.52, 'AMZN': 1860.22}"
      ]
     },
     "execution_count": 113,
     "metadata": {},
     "output_type": "execute_result"
    }
   ],
   "source": [
    "today_stock_prices = {\n",
    "    \"TSLA\": 561.25,\n",
    "    \"GOOGL\": 1469.52,\n",
    "    \"AMZN\": 1860.22\n",
    "}\n",
    "\n",
    "# Display the dictionary\n",
    "today_stock_prices"
   ]
  },
  {
   "cell_type": "code",
   "execution_count": 116,
   "metadata": {},
   "outputs": [
    {
     "data": {
      "text/plain": [
       "1860.22"
      ]
     },
     "execution_count": 116,
     "metadata": {},
     "output_type": "execute_result"
    }
   ],
   "source": [
    "today_stock_prices[\"AMZN\"]"
   ]
  },
  {
   "cell_type": "markdown",
   "metadata": {},
   "source": [
    "Performing `list(your_dictionary)` on a dictionary returns a list of all the keys used in the dictionary."
   ]
  },
  {
   "cell_type": "code",
   "execution_count": 117,
   "metadata": {},
   "outputs": [
    {
     "data": {
      "text/plain": [
       "['TSLA', 'GOOGL', 'AMZN']"
      ]
     },
     "execution_count": 117,
     "metadata": {},
     "output_type": "execute_result"
    }
   ],
   "source": [
    "list(today_stock_prices)"
   ]
  },
  {
   "cell_type": "markdown",
   "metadata": {},
   "source": [
    "You can create a new key and set it's value or override the value if the key exists:"
   ]
  },
  {
   "cell_type": "code",
   "execution_count": 119,
   "metadata": {},
   "outputs": [
    {
     "data": {
      "text/plain": [
       "{'TSLA': 561.25, 'GOOGL': 1469.52, 'AMZN': 1860.22, 'FB': 217.77}"
      ]
     },
     "execution_count": 119,
     "metadata": {},
     "output_type": "execute_result"
    }
   ],
   "source": [
    "today_stock_prices[\"FB\"] = 217.77\n",
    "\n",
    "today_stock_prices"
   ]
  },
  {
   "cell_type": "code",
   "execution_count": 121,
   "metadata": {},
   "outputs": [
    {
     "data": {
      "text/plain": [
       "{'TSLA': 561.25, 'GOOGL': 1469.52, 'AMZN': 1860.22, 'FB': 216.01}"
      ]
     },
     "execution_count": 121,
     "metadata": {},
     "output_type": "execute_result"
    }
   ],
   "source": [
    "today_stock_prices[\"FB\"] = 216.01\n",
    "\n",
    "today_stock_prices"
   ]
  },
  {
   "cell_type": "markdown",
   "metadata": {},
   "source": [
    "Can also sort by keys (in this case, alphabetically):"
   ]
  },
  {
   "cell_type": "code",
   "execution_count": 123,
   "metadata": {},
   "outputs": [
    {
     "data": {
      "text/plain": [
       "['AMZN', 'FB', 'GOOGL', 'TSLA']"
      ]
     },
     "execution_count": 123,
     "metadata": {},
     "output_type": "execute_result"
    }
   ],
   "source": [
    "sorted(today_stock_prices)"
   ]
  },
  {
   "cell_type": "markdown",
   "metadata": {},
   "source": [
    "To check whether a single key is in the dictionary, use the `in`keyword."
   ]
  },
  {
   "cell_type": "code",
   "execution_count": 124,
   "metadata": {},
   "outputs": [
    {
     "data": {
      "text/plain": [
       "True"
      ]
     },
     "execution_count": 124,
     "metadata": {},
     "output_type": "execute_result"
    }
   ],
   "source": [
    "'FB' in today_stock_prices"
   ]
  },
  {
   "cell_type": "code",
   "execution_count": 125,
   "metadata": {},
   "outputs": [
    {
     "data": {
      "text/plain": [
       "False"
      ]
     },
     "execution_count": 125,
     "metadata": {},
     "output_type": "execute_result"
    }
   ],
   "source": [
    "'MSFT' in today_stock_prices"
   ]
  },
  {
   "cell_type": "markdown",
   "metadata": {},
   "source": [
    "## Introduction to Pandas\n",
    "\n",
    "The Pandas Library stands for *Python Data Analysis Library* and is an easy-to-use, open source tool for analysing data.\n",
    "\n",
    "Pandas takes tabular data, like in an Excel/CSV spreadsheet, and creates a Python object consisting of rows and columns called a **dataframe**, which then comes with a handful of useful functions or actions to manipulate that Python object. \n",
    "\n",
    "For a short 10min tutorial on Pandas, see https://pandas.pydata.org/pandas-docs/stable/getting_started/10min.html\n",
    "\n",
    "We will go through a few key Pandas items here.\n",
    "\n",
    "#### Using Pandas\n",
    "By convention we import Pandas, along with another helpful library called Numpy, as follows:"
   ]
  },
  {
   "cell_type": "code",
   "execution_count": 3,
   "metadata": {},
   "outputs": [],
   "source": [
    "import numpy as np\n",
    "import pandas as pd"
   ]
  },
  {
   "cell_type": "markdown",
   "metadata": {},
   "source": [
    "The Pandas library is now accessible to us as the `pd` variable.\n",
    "\n",
    "Now we create a **DataFrame** consisting of indicies (i.e. the row labels), columns and our data. The syntax for creating a DataFrame is:\n",
    "\n",
    "`my_data_frame = pd.DataFrame(<your data>, index=<your row labels>, columns = <your column labels>)`"
   ]
  },
  {
   "cell_type": "code",
   "execution_count": 33,
   "metadata": {},
   "outputs": [
    {
     "data": {
      "text/plain": [
       "DatetimeIndex(['2020-01-01', '2020-01-02', '2020-01-03', '2020-01-04',\n",
       "               '2020-01-05', '2020-01-06'],\n",
       "              dtype='datetime64[ns]', freq='D')"
      ]
     },
     "execution_count": 33,
     "metadata": {},
     "output_type": "execute_result"
    }
   ],
   "source": [
    "dates = pd.date_range('20200101', periods=6)\n",
    "dates"
   ]
  },
  {
   "cell_type": "code",
   "execution_count": 34,
   "metadata": {},
   "outputs": [
    {
     "data": {
      "text/plain": [
       "array([[0.1918526 , 0.8132413 , 0.91522232, 0.3301934 ],\n",
       "       [0.34353716, 0.47893311, 0.74180112, 0.78941646],\n",
       "       [0.86307425, 0.56300332, 0.61790132, 0.63926475],\n",
       "       [0.32324922, 0.99785633, 0.68934976, 0.92108904],\n",
       "       [0.16398905, 0.39725814, 0.18172516, 0.75492203],\n",
       "       [0.67543328, 0.33439745, 0.48287354, 0.25996518]])"
      ]
     },
     "execution_count": 34,
     "metadata": {},
     "output_type": "execute_result"
    }
   ],
   "source": [
    "data = np.random.rand(6,4) # creates a 6 x 4 matrix of random numbers between 0 and 1\n",
    "data"
   ]
  },
  {
   "cell_type": "code",
   "execution_count": 35,
   "metadata": {},
   "outputs": [],
   "source": [
    "column_labels = ['A', 'B', 'C', 'D']"
   ]
  },
  {
   "cell_type": "code",
   "execution_count": 36,
   "metadata": {},
   "outputs": [
    {
     "data": {
      "text/html": [
       "<div>\n",
       "<style scoped>\n",
       "    .dataframe tbody tr th:only-of-type {\n",
       "        vertical-align: middle;\n",
       "    }\n",
       "\n",
       "    .dataframe tbody tr th {\n",
       "        vertical-align: top;\n",
       "    }\n",
       "\n",
       "    .dataframe thead th {\n",
       "        text-align: right;\n",
       "    }\n",
       "</style>\n",
       "<table border=\"1\" class=\"dataframe\">\n",
       "  <thead>\n",
       "    <tr style=\"text-align: right;\">\n",
       "      <th></th>\n",
       "      <th>A</th>\n",
       "      <th>B</th>\n",
       "      <th>C</th>\n",
       "      <th>D</th>\n",
       "    </tr>\n",
       "  </thead>\n",
       "  <tbody>\n",
       "    <tr>\n",
       "      <td>2020-01-01</td>\n",
       "      <td>0.191853</td>\n",
       "      <td>0.813241</td>\n",
       "      <td>0.915222</td>\n",
       "      <td>0.330193</td>\n",
       "    </tr>\n",
       "    <tr>\n",
       "      <td>2020-01-02</td>\n",
       "      <td>0.343537</td>\n",
       "      <td>0.478933</td>\n",
       "      <td>0.741801</td>\n",
       "      <td>0.789416</td>\n",
       "    </tr>\n",
       "    <tr>\n",
       "      <td>2020-01-03</td>\n",
       "      <td>0.863074</td>\n",
       "      <td>0.563003</td>\n",
       "      <td>0.617901</td>\n",
       "      <td>0.639265</td>\n",
       "    </tr>\n",
       "    <tr>\n",
       "      <td>2020-01-04</td>\n",
       "      <td>0.323249</td>\n",
       "      <td>0.997856</td>\n",
       "      <td>0.689350</td>\n",
       "      <td>0.921089</td>\n",
       "    </tr>\n",
       "    <tr>\n",
       "      <td>2020-01-05</td>\n",
       "      <td>0.163989</td>\n",
       "      <td>0.397258</td>\n",
       "      <td>0.181725</td>\n",
       "      <td>0.754922</td>\n",
       "    </tr>\n",
       "    <tr>\n",
       "      <td>2020-01-06</td>\n",
       "      <td>0.675433</td>\n",
       "      <td>0.334397</td>\n",
       "      <td>0.482874</td>\n",
       "      <td>0.259965</td>\n",
       "    </tr>\n",
       "  </tbody>\n",
       "</table>\n",
       "</div>"
      ],
      "text/plain": [
       "                   A         B         C         D\n",
       "2020-01-01  0.191853  0.813241  0.915222  0.330193\n",
       "2020-01-02  0.343537  0.478933  0.741801  0.789416\n",
       "2020-01-03  0.863074  0.563003  0.617901  0.639265\n",
       "2020-01-04  0.323249  0.997856  0.689350  0.921089\n",
       "2020-01-05  0.163989  0.397258  0.181725  0.754922\n",
       "2020-01-06  0.675433  0.334397  0.482874  0.259965"
      ]
     },
     "execution_count": 36,
     "metadata": {},
     "output_type": "execute_result"
    }
   ],
   "source": [
    "df = pd.DataFrame(data, index=dates, columns=column_labels)\n",
    "df"
   ]
  },
  {
   "cell_type": "markdown",
   "metadata": {},
   "source": [
    "Now let us look at how we can interact with this dataframe using some built-in methods:"
   ]
  },
  {
   "cell_type": "code",
   "execution_count": 37,
   "metadata": {},
   "outputs": [
    {
     "data": {
      "text/html": [
       "<div>\n",
       "<style scoped>\n",
       "    .dataframe tbody tr th:only-of-type {\n",
       "        vertical-align: middle;\n",
       "    }\n",
       "\n",
       "    .dataframe tbody tr th {\n",
       "        vertical-align: top;\n",
       "    }\n",
       "\n",
       "    .dataframe thead th {\n",
       "        text-align: right;\n",
       "    }\n",
       "</style>\n",
       "<table border=\"1\" class=\"dataframe\">\n",
       "  <thead>\n",
       "    <tr style=\"text-align: right;\">\n",
       "      <th></th>\n",
       "      <th>A</th>\n",
       "      <th>B</th>\n",
       "      <th>C</th>\n",
       "      <th>D</th>\n",
       "    </tr>\n",
       "  </thead>\n",
       "  <tbody>\n",
       "    <tr>\n",
       "      <td>2020-01-01</td>\n",
       "      <td>0.191853</td>\n",
       "      <td>0.813241</td>\n",
       "      <td>0.915222</td>\n",
       "      <td>0.330193</td>\n",
       "    </tr>\n",
       "    <tr>\n",
       "      <td>2020-01-02</td>\n",
       "      <td>0.343537</td>\n",
       "      <td>0.478933</td>\n",
       "      <td>0.741801</td>\n",
       "      <td>0.789416</td>\n",
       "    </tr>\n",
       "    <tr>\n",
       "      <td>2020-01-03</td>\n",
       "      <td>0.863074</td>\n",
       "      <td>0.563003</td>\n",
       "      <td>0.617901</td>\n",
       "      <td>0.639265</td>\n",
       "    </tr>\n",
       "    <tr>\n",
       "      <td>2020-01-04</td>\n",
       "      <td>0.323249</td>\n",
       "      <td>0.997856</td>\n",
       "      <td>0.689350</td>\n",
       "      <td>0.921089</td>\n",
       "    </tr>\n",
       "    <tr>\n",
       "      <td>2020-01-05</td>\n",
       "      <td>0.163989</td>\n",
       "      <td>0.397258</td>\n",
       "      <td>0.181725</td>\n",
       "      <td>0.754922</td>\n",
       "    </tr>\n",
       "  </tbody>\n",
       "</table>\n",
       "</div>"
      ],
      "text/plain": [
       "                   A         B         C         D\n",
       "2020-01-01  0.191853  0.813241  0.915222  0.330193\n",
       "2020-01-02  0.343537  0.478933  0.741801  0.789416\n",
       "2020-01-03  0.863074  0.563003  0.617901  0.639265\n",
       "2020-01-04  0.323249  0.997856  0.689350  0.921089\n",
       "2020-01-05  0.163989  0.397258  0.181725  0.754922"
      ]
     },
     "execution_count": 37,
     "metadata": {},
     "output_type": "execute_result"
    }
   ],
   "source": [
    "df.head() # Gives us just the top 5 rows of our dataframe by default"
   ]
  },
  {
   "cell_type": "code",
   "execution_count": 38,
   "metadata": {},
   "outputs": [
    {
     "data": {
      "text/html": [
       "<div>\n",
       "<style scoped>\n",
       "    .dataframe tbody tr th:only-of-type {\n",
       "        vertical-align: middle;\n",
       "    }\n",
       "\n",
       "    .dataframe tbody tr th {\n",
       "        vertical-align: top;\n",
       "    }\n",
       "\n",
       "    .dataframe thead th {\n",
       "        text-align: right;\n",
       "    }\n",
       "</style>\n",
       "<table border=\"1\" class=\"dataframe\">\n",
       "  <thead>\n",
       "    <tr style=\"text-align: right;\">\n",
       "      <th></th>\n",
       "      <th>A</th>\n",
       "      <th>B</th>\n",
       "      <th>C</th>\n",
       "      <th>D</th>\n",
       "    </tr>\n",
       "  </thead>\n",
       "  <tbody>\n",
       "    <tr>\n",
       "      <td>2020-01-04</td>\n",
       "      <td>0.323249</td>\n",
       "      <td>0.997856</td>\n",
       "      <td>0.689350</td>\n",
       "      <td>0.921089</td>\n",
       "    </tr>\n",
       "    <tr>\n",
       "      <td>2020-01-05</td>\n",
       "      <td>0.163989</td>\n",
       "      <td>0.397258</td>\n",
       "      <td>0.181725</td>\n",
       "      <td>0.754922</td>\n",
       "    </tr>\n",
       "    <tr>\n",
       "      <td>2020-01-06</td>\n",
       "      <td>0.675433</td>\n",
       "      <td>0.334397</td>\n",
       "      <td>0.482874</td>\n",
       "      <td>0.259965</td>\n",
       "    </tr>\n",
       "  </tbody>\n",
       "</table>\n",
       "</div>"
      ],
      "text/plain": [
       "                   A         B         C         D\n",
       "2020-01-04  0.323249  0.997856  0.689350  0.921089\n",
       "2020-01-05  0.163989  0.397258  0.181725  0.754922\n",
       "2020-01-06  0.675433  0.334397  0.482874  0.259965"
      ]
     },
     "execution_count": 38,
     "metadata": {},
     "output_type": "execute_result"
    }
   ],
   "source": [
    "df.tail(3) # Gives us the bottom 3 rows of our dataframe since we've specified the number"
   ]
  },
  {
   "cell_type": "code",
   "execution_count": 39,
   "metadata": {},
   "outputs": [
    {
     "data": {
      "text/html": [
       "<div>\n",
       "<style scoped>\n",
       "    .dataframe tbody tr th:only-of-type {\n",
       "        vertical-align: middle;\n",
       "    }\n",
       "\n",
       "    .dataframe tbody tr th {\n",
       "        vertical-align: top;\n",
       "    }\n",
       "\n",
       "    .dataframe thead th {\n",
       "        text-align: right;\n",
       "    }\n",
       "</style>\n",
       "<table border=\"1\" class=\"dataframe\">\n",
       "  <thead>\n",
       "    <tr style=\"text-align: right;\">\n",
       "      <th></th>\n",
       "      <th>A</th>\n",
       "      <th>B</th>\n",
       "      <th>C</th>\n",
       "      <th>D</th>\n",
       "    </tr>\n",
       "  </thead>\n",
       "  <tbody>\n",
       "    <tr>\n",
       "      <td>count</td>\n",
       "      <td>6.000000</td>\n",
       "      <td>6.000000</td>\n",
       "      <td>6.000000</td>\n",
       "      <td>6.000000</td>\n",
       "    </tr>\n",
       "    <tr>\n",
       "      <td>mean</td>\n",
       "      <td>0.426856</td>\n",
       "      <td>0.597448</td>\n",
       "      <td>0.604812</td>\n",
       "      <td>0.615808</td>\n",
       "    </tr>\n",
       "    <tr>\n",
       "      <td>std</td>\n",
       "      <td>0.280742</td>\n",
       "      <td>0.257448</td>\n",
       "      <td>0.251519</td>\n",
       "      <td>0.265119</td>\n",
       "    </tr>\n",
       "    <tr>\n",
       "      <td>min</td>\n",
       "      <td>0.163989</td>\n",
       "      <td>0.334397</td>\n",
       "      <td>0.181725</td>\n",
       "      <td>0.259965</td>\n",
       "    </tr>\n",
       "    <tr>\n",
       "      <td>25%</td>\n",
       "      <td>0.224702</td>\n",
       "      <td>0.417677</td>\n",
       "      <td>0.516630</td>\n",
       "      <td>0.407461</td>\n",
       "    </tr>\n",
       "    <tr>\n",
       "      <td>50%</td>\n",
       "      <td>0.333393</td>\n",
       "      <td>0.520968</td>\n",
       "      <td>0.653626</td>\n",
       "      <td>0.697093</td>\n",
       "    </tr>\n",
       "    <tr>\n",
       "      <td>75%</td>\n",
       "      <td>0.592459</td>\n",
       "      <td>0.750682</td>\n",
       "      <td>0.728688</td>\n",
       "      <td>0.780793</td>\n",
       "    </tr>\n",
       "    <tr>\n",
       "      <td>max</td>\n",
       "      <td>0.863074</td>\n",
       "      <td>0.997856</td>\n",
       "      <td>0.915222</td>\n",
       "      <td>0.921089</td>\n",
       "    </tr>\n",
       "  </tbody>\n",
       "</table>\n",
       "</div>"
      ],
      "text/plain": [
       "              A         B         C         D\n",
       "count  6.000000  6.000000  6.000000  6.000000\n",
       "mean   0.426856  0.597448  0.604812  0.615808\n",
       "std    0.280742  0.257448  0.251519  0.265119\n",
       "min    0.163989  0.334397  0.181725  0.259965\n",
       "25%    0.224702  0.417677  0.516630  0.407461\n",
       "50%    0.333393  0.520968  0.653626  0.697093\n",
       "75%    0.592459  0.750682  0.728688  0.780793\n",
       "max    0.863074  0.997856  0.915222  0.921089"
      ]
     },
     "execution_count": 39,
     "metadata": {},
     "output_type": "execute_result"
    }
   ],
   "source": [
    "df.describe() # Gives us a nice summary table of the data"
   ]
  },
  {
   "cell_type": "code",
   "execution_count": 40,
   "metadata": {},
   "outputs": [
    {
     "data": {
      "text/html": [
       "<div>\n",
       "<style scoped>\n",
       "    .dataframe tbody tr th:only-of-type {\n",
       "        vertical-align: middle;\n",
       "    }\n",
       "\n",
       "    .dataframe tbody tr th {\n",
       "        vertical-align: top;\n",
       "    }\n",
       "\n",
       "    .dataframe thead th {\n",
       "        text-align: right;\n",
       "    }\n",
       "</style>\n",
       "<table border=\"1\" class=\"dataframe\">\n",
       "  <thead>\n",
       "    <tr style=\"text-align: right;\">\n",
       "      <th></th>\n",
       "      <th>A</th>\n",
       "      <th>B</th>\n",
       "      <th>C</th>\n",
       "      <th>D</th>\n",
       "    </tr>\n",
       "  </thead>\n",
       "  <tbody>\n",
       "    <tr>\n",
       "      <td>2020-01-06</td>\n",
       "      <td>0.675433</td>\n",
       "      <td>0.334397</td>\n",
       "      <td>0.482874</td>\n",
       "      <td>0.259965</td>\n",
       "    </tr>\n",
       "    <tr>\n",
       "      <td>2020-01-05</td>\n",
       "      <td>0.163989</td>\n",
       "      <td>0.397258</td>\n",
       "      <td>0.181725</td>\n",
       "      <td>0.754922</td>\n",
       "    </tr>\n",
       "    <tr>\n",
       "      <td>2020-01-02</td>\n",
       "      <td>0.343537</td>\n",
       "      <td>0.478933</td>\n",
       "      <td>0.741801</td>\n",
       "      <td>0.789416</td>\n",
       "    </tr>\n",
       "    <tr>\n",
       "      <td>2020-01-03</td>\n",
       "      <td>0.863074</td>\n",
       "      <td>0.563003</td>\n",
       "      <td>0.617901</td>\n",
       "      <td>0.639265</td>\n",
       "    </tr>\n",
       "    <tr>\n",
       "      <td>2020-01-01</td>\n",
       "      <td>0.191853</td>\n",
       "      <td>0.813241</td>\n",
       "      <td>0.915222</td>\n",
       "      <td>0.330193</td>\n",
       "    </tr>\n",
       "    <tr>\n",
       "      <td>2020-01-04</td>\n",
       "      <td>0.323249</td>\n",
       "      <td>0.997856</td>\n",
       "      <td>0.689350</td>\n",
       "      <td>0.921089</td>\n",
       "    </tr>\n",
       "  </tbody>\n",
       "</table>\n",
       "</div>"
      ],
      "text/plain": [
       "                   A         B         C         D\n",
       "2020-01-06  0.675433  0.334397  0.482874  0.259965\n",
       "2020-01-05  0.163989  0.397258  0.181725  0.754922\n",
       "2020-01-02  0.343537  0.478933  0.741801  0.789416\n",
       "2020-01-03  0.863074  0.563003  0.617901  0.639265\n",
       "2020-01-01  0.191853  0.813241  0.915222  0.330193\n",
       "2020-01-04  0.323249  0.997856  0.689350  0.921089"
      ]
     },
     "execution_count": 40,
     "metadata": {},
     "output_type": "execute_result"
    }
   ],
   "source": [
    "df.sort_values(by='B') # Sort by a specific column"
   ]
  },
  {
   "cell_type": "code",
   "execution_count": 41,
   "metadata": {},
   "outputs": [
    {
     "data": {
      "text/plain": [
       "2020-01-01    2.250510\n",
       "2020-01-02    2.353688\n",
       "2020-01-03    2.683244\n",
       "2020-01-04    2.931544\n",
       "2020-01-05    1.497894\n",
       "2020-01-06    1.752669\n",
       "Freq: D, dtype: float64"
      ]
     },
     "execution_count": 41,
     "metadata": {},
     "output_type": "execute_result"
    }
   ],
   "source": [
    "df.sum(axis=1) # Sums across the columns. axis=0 will sum across the rows."
   ]
  },
  {
   "cell_type": "code",
   "execution_count": 64,
   "metadata": {},
   "outputs": [
    {
     "data": {
      "text/plain": [
       "2020-01-01    0.225751\n",
       "2020-01-02    0.388214\n",
       "2020-01-03    0.181905\n",
       "2020-01-04    0.146339\n",
       "2020-01-05    0.037712\n",
       "2020-01-06    0.532403\n",
       "Freq: D, Name: B, dtype: float64"
      ]
     },
     "execution_count": 64,
     "metadata": {},
     "output_type": "execute_result"
    }
   ],
   "source": [
    "df['B'] # Selects a single column"
   ]
  },
  {
   "cell_type": "code",
   "execution_count": 67,
   "metadata": {},
   "outputs": [
    {
     "data": {
      "text/plain": [
       "A    0.764690\n",
       "B    0.037712\n",
       "C    0.940726\n",
       "D    0.283655\n",
       "Name: 2020-01-05 00:00:00, dtype: float64"
      ]
     },
     "execution_count": 67,
     "metadata": {},
     "output_type": "execute_result"
    }
   ],
   "source": [
    "df.loc['2020-01-05'] # Selects a specific row by label"
   ]
  },
  {
   "cell_type": "code",
   "execution_count": 68,
   "metadata": {},
   "outputs": [
    {
     "data": {
      "text/html": [
       "<div>\n",
       "<style scoped>\n",
       "    .dataframe tbody tr th:only-of-type {\n",
       "        vertical-align: middle;\n",
       "    }\n",
       "\n",
       "    .dataframe tbody tr th {\n",
       "        vertical-align: top;\n",
       "    }\n",
       "\n",
       "    .dataframe thead th {\n",
       "        text-align: right;\n",
       "    }\n",
       "</style>\n",
       "<table border=\"1\" class=\"dataframe\">\n",
       "  <thead>\n",
       "    <tr style=\"text-align: right;\">\n",
       "      <th></th>\n",
       "      <th>A</th>\n",
       "      <th>B</th>\n",
       "      <th>C</th>\n",
       "      <th>D</th>\n",
       "    </tr>\n",
       "  </thead>\n",
       "  <tbody>\n",
       "    <tr>\n",
       "      <td>2020-01-02</td>\n",
       "      <td>0.409278</td>\n",
       "      <td>0.388214</td>\n",
       "      <td>0.555354</td>\n",
       "      <td>0.598860</td>\n",
       "    </tr>\n",
       "    <tr>\n",
       "      <td>2020-01-03</td>\n",
       "      <td>0.868087</td>\n",
       "      <td>0.181905</td>\n",
       "      <td>0.554925</td>\n",
       "      <td>0.919464</td>\n",
       "    </tr>\n",
       "    <tr>\n",
       "      <td>2020-01-04</td>\n",
       "      <td>0.185932</td>\n",
       "      <td>0.146339</td>\n",
       "      <td>0.390769</td>\n",
       "      <td>0.558661</td>\n",
       "    </tr>\n",
       "  </tbody>\n",
       "</table>\n",
       "</div>"
      ],
      "text/plain": [
       "                   A         B         C         D\n",
       "2020-01-02  0.409278  0.388214  0.555354  0.598860\n",
       "2020-01-03  0.868087  0.181905  0.554925  0.919464\n",
       "2020-01-04  0.185932  0.146339  0.390769  0.558661"
      ]
     },
     "execution_count": 68,
     "metadata": {},
     "output_type": "execute_result"
    }
   ],
   "source": [
    "df[1:4] # Slices the dataframe by rows using default index values. Note the last index number in the selected range is excluded."
   ]
  },
  {
   "cell_type": "code",
   "execution_count": 69,
   "metadata": {},
   "outputs": [
    {
     "data": {
      "text/html": [
       "<div>\n",
       "<style scoped>\n",
       "    .dataframe tbody tr th:only-of-type {\n",
       "        vertical-align: middle;\n",
       "    }\n",
       "\n",
       "    .dataframe tbody tr th {\n",
       "        vertical-align: top;\n",
       "    }\n",
       "\n",
       "    .dataframe thead th {\n",
       "        text-align: right;\n",
       "    }\n",
       "</style>\n",
       "<table border=\"1\" class=\"dataframe\">\n",
       "  <thead>\n",
       "    <tr style=\"text-align: right;\">\n",
       "      <th></th>\n",
       "      <th>A</th>\n",
       "      <th>B</th>\n",
       "      <th>C</th>\n",
       "      <th>D</th>\n",
       "    </tr>\n",
       "  </thead>\n",
       "  <tbody>\n",
       "    <tr>\n",
       "      <td>2020-01-01</td>\n",
       "      <td>0.638612</td>\n",
       "      <td>0.225751</td>\n",
       "      <td>0.846840</td>\n",
       "      <td>0.580116</td>\n",
       "    </tr>\n",
       "    <tr>\n",
       "      <td>2020-01-03</td>\n",
       "      <td>0.868087</td>\n",
       "      <td>0.181905</td>\n",
       "      <td>0.554925</td>\n",
       "      <td>0.919464</td>\n",
       "    </tr>\n",
       "    <tr>\n",
       "      <td>2020-01-05</td>\n",
       "      <td>0.764690</td>\n",
       "      <td>0.037712</td>\n",
       "      <td>0.940726</td>\n",
       "      <td>0.283655</td>\n",
       "    </tr>\n",
       "  </tbody>\n",
       "</table>\n",
       "</div>"
      ],
      "text/plain": [
       "                   A         B         C         D\n",
       "2020-01-01  0.638612  0.225751  0.846840  0.580116\n",
       "2020-01-03  0.868087  0.181905  0.554925  0.919464\n",
       "2020-01-05  0.764690  0.037712  0.940726  0.283655"
      ]
     },
     "execution_count": 69,
     "metadata": {},
     "output_type": "execute_result"
    }
   ],
   "source": [
    "df[df['A'] > 0.5] # Boolean indexing based on a condition. df.A refers to column A"
   ]
  },
  {
   "cell_type": "code",
   "execution_count": 71,
   "metadata": {},
   "outputs": [
    {
     "data": {
      "text/html": [
       "<div>\n",
       "<style scoped>\n",
       "    .dataframe tbody tr th:only-of-type {\n",
       "        vertical-align: middle;\n",
       "    }\n",
       "\n",
       "    .dataframe tbody tr th {\n",
       "        vertical-align: top;\n",
       "    }\n",
       "\n",
       "    .dataframe thead th {\n",
       "        text-align: right;\n",
       "    }\n",
       "</style>\n",
       "<table border=\"1\" class=\"dataframe\">\n",
       "  <thead>\n",
       "    <tr style=\"text-align: right;\">\n",
       "      <th></th>\n",
       "      <th>A</th>\n",
       "      <th>B</th>\n",
       "      <th>C</th>\n",
       "      <th>D</th>\n",
       "      <th>E</th>\n",
       "    </tr>\n",
       "  </thead>\n",
       "  <tbody>\n",
       "    <tr>\n",
       "      <td>2020-01-01</td>\n",
       "      <td>0.638612</td>\n",
       "      <td>0.225751</td>\n",
       "      <td>0.846840</td>\n",
       "      <td>0.580116</td>\n",
       "      <td>one</td>\n",
       "    </tr>\n",
       "    <tr>\n",
       "      <td>2020-01-02</td>\n",
       "      <td>0.409278</td>\n",
       "      <td>0.388214</td>\n",
       "      <td>0.555354</td>\n",
       "      <td>0.598860</td>\n",
       "      <td>one</td>\n",
       "    </tr>\n",
       "    <tr>\n",
       "      <td>2020-01-03</td>\n",
       "      <td>0.868087</td>\n",
       "      <td>0.181905</td>\n",
       "      <td>0.554925</td>\n",
       "      <td>0.919464</td>\n",
       "      <td>two</td>\n",
       "    </tr>\n",
       "    <tr>\n",
       "      <td>2020-01-04</td>\n",
       "      <td>0.185932</td>\n",
       "      <td>0.146339</td>\n",
       "      <td>0.390769</td>\n",
       "      <td>0.558661</td>\n",
       "      <td>three</td>\n",
       "    </tr>\n",
       "    <tr>\n",
       "      <td>2020-01-05</td>\n",
       "      <td>0.764690</td>\n",
       "      <td>0.037712</td>\n",
       "      <td>0.940726</td>\n",
       "      <td>0.283655</td>\n",
       "      <td>four</td>\n",
       "    </tr>\n",
       "    <tr>\n",
       "      <td>2020-01-06</td>\n",
       "      <td>0.209547</td>\n",
       "      <td>0.532403</td>\n",
       "      <td>0.236261</td>\n",
       "      <td>0.407510</td>\n",
       "      <td>three</td>\n",
       "    </tr>\n",
       "  </tbody>\n",
       "</table>\n",
       "</div>"
      ],
      "text/plain": [
       "                   A         B         C         D      E\n",
       "2020-01-01  0.638612  0.225751  0.846840  0.580116    one\n",
       "2020-01-02  0.409278  0.388214  0.555354  0.598860    one\n",
       "2020-01-03  0.868087  0.181905  0.554925  0.919464    two\n",
       "2020-01-04  0.185932  0.146339  0.390769  0.558661  three\n",
       "2020-01-05  0.764690  0.037712  0.940726  0.283655   four\n",
       "2020-01-06  0.209547  0.532403  0.236261  0.407510  three"
      ]
     },
     "execution_count": 71,
     "metadata": {},
     "output_type": "execute_result"
    }
   ],
   "source": [
    "df2 = df.copy()\n",
    "df2['E'] = ['one', 'one', 'two', 'three', 'four', 'three']\n",
    "df2"
   ]
  },
  {
   "cell_type": "markdown",
   "metadata": {},
   "source": [
    "Now let us look at a basic Python plotting library to create charts from our data. **Matplotlib** is an easy-to-use but powerful plotting library.\n",
    "\n",
    "## Introduction to Matplotlib\n",
    "\n",
    "For a detailed tutorial on Matplotlib, see: https://matplotlib.org/3.1.1/tutorials/introductory/pyplot.html\n",
    "\n",
    "Here are some examples of the basics with Matplotlib:\n",
    "\n",
    "By convention, we import Matplotlib as follows:"
   ]
  },
  {
   "cell_type": "code",
   "execution_count": 2,
   "metadata": {},
   "outputs": [],
   "source": [
    "import matplotlib.pyplot as plt"
   ]
  },
  {
   "cell_type": "markdown",
   "metadata": {},
   "source": [
    "The `plt` object has a `plot()` method which uses the convention: `plt.plot(<x-axis data>, <y-axis data>, <plot style>)`.\n",
    "\n",
    " If you provide a single list or array to the `plot()` command, matplotlib assumes it is a sequence of y values, and automatically generates the x values for you, starting with 0.\n",
    " \n",
    " So for example:"
   ]
  },
  {
   "cell_type": "code",
   "execution_count": 19,
   "metadata": {},
   "outputs": [
    {
     "data": {
      "image/png": "[encoded data removed]",
      "text/plain": [
       "<Figure size 432x288 with 1 Axes>"
      ]
     },
     "metadata": {
      "needs_background": "light"
     },
     "output_type": "display_data"
    }
   ],
   "source": [
    "plt.plot([1, 2, 3, 4]) # No x-axis data here, only y-axis\n",
    "plt.ylabel('some numbers')\n",
    "plt.show() # This actually displays the plot"
   ]
  },
  {
   "cell_type": "markdown",
   "metadata": {},
   "source": [
    "For every x, y pair of arguments, there is an optional third argument which is the format string that indicates the color and line type of the plot. The default format string is 'b-', which is a solid blue line. For example, to plot the above with red circles, you would issue `'ro'`"
   ]
  },
  {
   "cell_type": "code",
   "execution_count": 20,
   "metadata": {},
   "outputs": [
    {
     "data": {
      "image/png": "[encoded data removed]",
      "text/plain": [
       "<Figure size 432x288 with 1 Axes>"
      ]
     },
     "metadata": {
      "needs_background": "light"
     },
     "output_type": "display_data"
    }
   ],
   "source": [
    "plt.plot([1, 2, 3, 4], [1, 4, 9, 16], 'ro')\n",
    "plt.axis([0, 6, 0, 20])\n",
    "plt.show()"
   ]
  },
  {
   "cell_type": "code",
   "execution_count": 27,
   "metadata": {},
   "outputs": [
    {
     "data": {
      "text/plain": [
       "Text(0.5, 0.98, 'My beautiful graph')"
      ]
     },
     "execution_count": 27,
     "metadata": {},
     "output_type": "execute_result"
    },
    {
     "data": {
      "image/png": "[encoded data removed]",
      "text/plain": [
       "<Figure size 720x360 with 1 Axes>"
      ]
     },
     "metadata": {
      "needs_background": "light"
     },
     "output_type": "display_data"
    }
   ],
   "source": [
    "t = np.array([0.,0.2,0.4,0.6,0.8,1.,1.2,1.4,1.6,1.8,2.,2.2,2.4,2.6,2.8,3.,3.2,3.4,3.6,3.8,4.,4.2,4.4,4.6,4.8])\n",
    "\n",
    "plt.figure(figsize=(10, 5))\n",
    "plt.plot(t,t,'r--')\n",
    "plt.plot(t,t**2, 'bs')\n",
    "plt.plot(t,t**3, 'g^')\n",
    "plt.xlabel('my x data')\n",
    "plt.ylabel('my y data')\n",
    "plt.suptitle('My beautiful graph')"
   ]
  },
  {
   "cell_type": "markdown",
   "metadata": {},
   "source": [
    "## Analysing Stock Ticker Data\n",
    "\n",
    "Now that we have some of the Python data manipulation and plotting fundamentals down, let us start to analyze timeseries financial data.\n",
    "\n",
    "### Setting up Investor Exchange Account\n",
    "Investors Exchange (IEX) at https://iexcloud.io/ offers a free web-based API to access financial data such as historical and current stock ticker information. You will need to setup an account (which requires an email validation) in order to obtain an API Key which we will use in our Python code.\n",
    "\n",
    "Sign-up Process:\n",
    "* When you sign-up, you will receive an email with the subject `IEX Cloud Email Verification`\n",
    "* Verify your email and then click on the link provided under: `To get access to your API keys, go to the link below` . This will log you back into the IEX console.\n",
    "* Then in the left-hand menu, click on `API Tokens`\n",
    "* Your API token will be the `Publishable` type"
   ]
  },
  {
   "cell_type": "markdown",
   "metadata": {},
   "source": [
    "### Python Requirements\n",
    "\n",
    "In addition to `pandas` and `matplotlib` packages, we will need to install the following Python package: \n",
    "* pandas-datareader"
   ]
  },
  {
   "cell_type": "code",
   "execution_count": 1,
   "metadata": {},
   "outputs": [
    {
     "name": "stdout",
     "output_type": "stream",
     "text": [
      "Requirement already satisfied: pandas-datareader in /opt/anaconda3/lib/python3.7/site-packages (0.8.1)\n",
      "Requirement already satisfied: pandas>=0.21 in /opt/anaconda3/lib/python3.7/site-packages (from pandas-datareader) (0.25.1)\n",
      "Requirement already satisfied: lxml in /opt/anaconda3/lib/python3.7/site-packages (from pandas-datareader) (4.4.1)\n",
      "Requirement already satisfied: requests>=2.3.0 in /opt/anaconda3/lib/python3.7/site-packages (from pandas-datareader) (2.22.0)\n",
      "Requirement already satisfied: pytz>=2017.2 in /opt/anaconda3/lib/python3.7/site-packages (from pandas>=0.21->pandas-datareader) (2019.3)\n",
      "Requirement already satisfied: python-dateutil>=2.6.1 in /opt/anaconda3/lib/python3.7/site-packages (from pandas>=0.21->pandas-datareader) (2.8.0)\n",
      "Requirement already satisfied: numpy>=1.13.3 in /opt/anaconda3/lib/python3.7/site-packages (from pandas>=0.21->pandas-datareader) (1.17.2)\n",
      "Requirement already satisfied: idna<2.9,>=2.5 in /opt/anaconda3/lib/python3.7/site-packages (from requests>=2.3.0->pandas-datareader) (2.8)\n",
      "Requirement already satisfied: urllib3!=1.25.0,!=1.25.1,<1.26,>=1.21.1 in /opt/anaconda3/lib/python3.7/site-packages (from requests>=2.3.0->pandas-datareader) (1.24.2)\n",
      "Requirement already satisfied: chardet<3.1.0,>=3.0.2 in /opt/anaconda3/lib/python3.7/site-packages (from requests>=2.3.0->pandas-datareader) (3.0.4)\n",
      "Requirement already satisfied: certifi>=2017.4.17 in /opt/anaconda3/lib/python3.7/site-packages (from requests>=2.3.0->pandas-datareader) (2019.9.11)\n",
      "Requirement already satisfied: six>=1.5 in /opt/anaconda3/lib/python3.7/site-packages (from python-dateutil>=2.6.1->pandas>=0.21->pandas-datareader) (1.12.0)\n",
      "Note: you may need to restart the kernel to use updated packages.\n"
     ]
    }
   ],
   "source": [
    "pip install pandas-datareader"
   ]
  },
  {
   "cell_type": "markdown",
   "metadata": {},
   "source": [
    "### Pulling in stock ticker data\n",
    "First, we import the following packages:"
   ]
  },
  {
   "cell_type": "code",
   "execution_count": 4,
   "metadata": {},
   "outputs": [],
   "source": [
    "from pandas import DataFrame\n",
    "from pandas_datareader import data\n",
    "import matplotlib.pyplot as plt\n",
    "import numpy as np\n",
    "import pandas as pd\n",
    "import os"
   ]
  },
  {
   "cell_type": "markdown",
   "metadata": {},
   "source": [
    "Then we will set our IEX API KEY to the environment variable \"IEX_API_KEY\".\n",
    "\n",
    "Copy your API Token public key from the IEX console and paste it as follows:"
   ]
  },
  {
   "cell_type": "code",
   "execution_count": 5,
   "metadata": {},
   "outputs": [],
   "source": [
    "os.environ[\"IEX_API_KEY\"] = \"pk_b27ac22c66ed40f9b172212374c803d7\""
   ]
  },
  {
   "cell_type": "markdown",
   "metadata": {},
   "source": [
    "Now, let's create a small **list of tickers** that we want to analyze. We can scale up with more stocks but we will start with just 3 for now to keep our data requests from IEX low. \n",
    "\n",
    "A full list of eligible stock tickers can be found here: https://iextrading.com/trading/eligible-symbols/\n",
    "\n",
    "We will pull and look at data for the following 3 Exchange Traded Funds (ETF) stock tickers representing different industry sectors:\n",
    "\n",
    "IAU - Gold Trust\n",
    "IXG - Global Financials\n",
    "IXN - Global Tech\n",
    "\n",
    "We can pull data from as far back as 5 years ago with our account. However, let us start by looking at stock ticker data since the beginning of 2017. "
   ]
  },
  {
   "cell_type": "code",
   "execution_count": 6,
   "metadata": {},
   "outputs": [],
   "source": [
    "tickers = ['IAU', 'IXG', 'IXN']\n",
    "\n",
    "start_date = '2017-01-01'\n",
    "end_date = '2020-01-01'"
   ]
  },
  {
   "cell_type": "markdown",
   "metadata": {},
   "source": [
    "Now we pull in the ticker data with pandas's `datareader` with:"
   ]
  },
  {
   "cell_type": "code",
   "execution_count": 7,
   "metadata": {},
   "outputs": [],
   "source": [
    "stock_data = data.DataReader(tickers, 'iex', start_date, end_date)"
   ]
  },
  {
   "cell_type": "markdown",
   "metadata": {},
   "source": [
    "And now let us call the `stock_data` variable to see the data it holds:"
   ]
  },
  {
   "cell_type": "code",
   "execution_count": 9,
   "metadata": {},
   "outputs": [
    {
     "data": {
      "text/html": [
       "<div>\n",
       "<style scoped>\n",
       "    .dataframe tbody tr th:only-of-type {\n",
       "        vertical-align: middle;\n",
       "    }\n",
       "\n",
       "    .dataframe tbody tr th {\n",
       "        vertical-align: top;\n",
       "    }\n",
       "\n",
       "    .dataframe thead tr th {\n",
       "        text-align: left;\n",
       "    }\n",
       "\n",
       "    .dataframe thead tr:last-of-type th {\n",
       "        text-align: right;\n",
       "    }\n",
       "</style>\n",
       "<table border=\"1\" class=\"dataframe\">\n",
       "  <thead>\n",
       "    <tr>\n",
       "      <th>Attributes</th>\n",
       "      <th colspan=\"3\" halign=\"left\">open</th>\n",
       "      <th colspan=\"3\" halign=\"left\">high</th>\n",
       "      <th colspan=\"3\" halign=\"left\">low</th>\n",
       "      <th colspan=\"3\" halign=\"left\">close</th>\n",
       "      <th colspan=\"3\" halign=\"left\">volume</th>\n",
       "    </tr>\n",
       "    <tr>\n",
       "      <th>Symbols</th>\n",
       "      <th>IAU</th>\n",
       "      <th>IXG</th>\n",
       "      <th>IXN</th>\n",
       "      <th>IAU</th>\n",
       "      <th>IXG</th>\n",
       "      <th>IXN</th>\n",
       "      <th>IAU</th>\n",
       "      <th>IXG</th>\n",
       "      <th>IXN</th>\n",
       "      <th>IAU</th>\n",
       "      <th>IXG</th>\n",
       "      <th>IXN</th>\n",
       "      <th>IAU</th>\n",
       "      <th>IXG</th>\n",
       "      <th>IXN</th>\n",
       "    </tr>\n",
       "    <tr>\n",
       "      <th>date</th>\n",
       "      <th></th>\n",
       "      <th></th>\n",
       "      <th></th>\n",
       "      <th></th>\n",
       "      <th></th>\n",
       "      <th></th>\n",
       "      <th></th>\n",
       "      <th></th>\n",
       "      <th></th>\n",
       "      <th></th>\n",
       "      <th></th>\n",
       "      <th></th>\n",
       "      <th></th>\n",
       "      <th></th>\n",
       "      <th></th>\n",
       "    </tr>\n",
       "  </thead>\n",
       "  <tbody>\n",
       "    <tr>\n",
       "      <td>2017-01-03</td>\n",
       "      <td>11.09</td>\n",
       "      <td>58.43</td>\n",
       "      <td>110.60</td>\n",
       "      <td>11.22</td>\n",
       "      <td>58.76</td>\n",
       "      <td>111.25</td>\n",
       "      <td>11.05</td>\n",
       "      <td>58.23</td>\n",
       "      <td>110.18</td>\n",
       "      <td>11.16</td>\n",
       "      <td>58.56</td>\n",
       "      <td>110.76</td>\n",
       "      <td>7937709</td>\n",
       "      <td>157301</td>\n",
       "      <td>80558</td>\n",
       "    </tr>\n",
       "    <tr>\n",
       "      <td>2017-01-04</td>\n",
       "      <td>11.23</td>\n",
       "      <td>58.82</td>\n",
       "      <td>110.88</td>\n",
       "      <td>11.24</td>\n",
       "      <td>59.32</td>\n",
       "      <td>111.36</td>\n",
       "      <td>11.18</td>\n",
       "      <td>58.82</td>\n",
       "      <td>110.88</td>\n",
       "      <td>11.21</td>\n",
       "      <td>59.32</td>\n",
       "      <td>111.21</td>\n",
       "      <td>8860361</td>\n",
       "      <td>94741</td>\n",
       "      <td>20009</td>\n",
       "    </tr>\n",
       "    <tr>\n",
       "      <td>2017-01-05</td>\n",
       "      <td>11.33</td>\n",
       "      <td>59.21</td>\n",
       "      <td>111.40</td>\n",
       "      <td>11.42</td>\n",
       "      <td>59.32</td>\n",
       "      <td>111.80</td>\n",
       "      <td>11.33</td>\n",
       "      <td>58.91</td>\n",
       "      <td>111.39</td>\n",
       "      <td>11.38</td>\n",
       "      <td>59.15</td>\n",
       "      <td>111.77</td>\n",
       "      <td>14333931</td>\n",
       "      <td>47266</td>\n",
       "      <td>41994</td>\n",
       "    </tr>\n",
       "    <tr>\n",
       "      <td>2017-01-06</td>\n",
       "      <td>11.30</td>\n",
       "      <td>59.18</td>\n",
       "      <td>111.83</td>\n",
       "      <td>11.36</td>\n",
       "      <td>59.32</td>\n",
       "      <td>112.78</td>\n",
       "      <td>11.27</td>\n",
       "      <td>59.11</td>\n",
       "      <td>111.49</td>\n",
       "      <td>11.30</td>\n",
       "      <td>59.21</td>\n",
       "      <td>112.58</td>\n",
       "      <td>10424990</td>\n",
       "      <td>14085</td>\n",
       "      <td>38068</td>\n",
       "    </tr>\n",
       "    <tr>\n",
       "      <td>2017-01-09</td>\n",
       "      <td>11.35</td>\n",
       "      <td>58.95</td>\n",
       "      <td>112.59</td>\n",
       "      <td>11.42</td>\n",
       "      <td>59.00</td>\n",
       "      <td>113.12</td>\n",
       "      <td>11.34</td>\n",
       "      <td>58.66</td>\n",
       "      <td>112.59</td>\n",
       "      <td>11.38</td>\n",
       "      <td>58.77</td>\n",
       "      <td>112.93</td>\n",
       "      <td>6615967</td>\n",
       "      <td>68358</td>\n",
       "      <td>33283</td>\n",
       "    </tr>\n",
       "    <tr>\n",
       "      <td>...</td>\n",
       "      <td>...</td>\n",
       "      <td>...</td>\n",
       "      <td>...</td>\n",
       "      <td>...</td>\n",
       "      <td>...</td>\n",
       "      <td>...</td>\n",
       "      <td>...</td>\n",
       "      <td>...</td>\n",
       "      <td>...</td>\n",
       "      <td>...</td>\n",
       "      <td>...</td>\n",
       "      <td>...</td>\n",
       "      <td>...</td>\n",
       "      <td>...</td>\n",
       "      <td>...</td>\n",
       "    </tr>\n",
       "    <tr>\n",
       "      <td>2019-12-24</td>\n",
       "      <td>14.25</td>\n",
       "      <td>68.53</td>\n",
       "      <td>209.42</td>\n",
       "      <td>14.34</td>\n",
       "      <td>68.53</td>\n",
       "      <td>209.42</td>\n",
       "      <td>14.25</td>\n",
       "      <td>68.40</td>\n",
       "      <td>208.72</td>\n",
       "      <td>14.33</td>\n",
       "      <td>68.40</td>\n",
       "      <td>209.11</td>\n",
       "      <td>5428963</td>\n",
       "      <td>25055</td>\n",
       "      <td>30179</td>\n",
       "    </tr>\n",
       "    <tr>\n",
       "      <td>2019-12-26</td>\n",
       "      <td>14.41</td>\n",
       "      <td>68.56</td>\n",
       "      <td>209.81</td>\n",
       "      <td>14.46</td>\n",
       "      <td>68.88</td>\n",
       "      <td>210.80</td>\n",
       "      <td>14.40</td>\n",
       "      <td>68.52</td>\n",
       "      <td>209.81</td>\n",
       "      <td>14.45</td>\n",
       "      <td>68.85</td>\n",
       "      <td>210.80</td>\n",
       "      <td>7138485</td>\n",
       "      <td>13732</td>\n",
       "      <td>30416</td>\n",
       "    </tr>\n",
       "    <tr>\n",
       "      <td>2019-12-27</td>\n",
       "      <td>14.44</td>\n",
       "      <td>69.06</td>\n",
       "      <td>211.85</td>\n",
       "      <td>14.49</td>\n",
       "      <td>69.06</td>\n",
       "      <td>211.85</td>\n",
       "      <td>14.43</td>\n",
       "      <td>68.83</td>\n",
       "      <td>210.72</td>\n",
       "      <td>14.44</td>\n",
       "      <td>68.86</td>\n",
       "      <td>211.18</td>\n",
       "      <td>7083072</td>\n",
       "      <td>107631</td>\n",
       "      <td>56752</td>\n",
       "    </tr>\n",
       "    <tr>\n",
       "      <td>2019-12-30</td>\n",
       "      <td>14.47</td>\n",
       "      <td>69.07</td>\n",
       "      <td>211.01</td>\n",
       "      <td>14.49</td>\n",
       "      <td>69.07</td>\n",
       "      <td>211.01</td>\n",
       "      <td>14.46</td>\n",
       "      <td>68.54</td>\n",
       "      <td>208.47</td>\n",
       "      <td>14.49</td>\n",
       "      <td>68.62</td>\n",
       "      <td>209.61</td>\n",
       "      <td>13269927</td>\n",
       "      <td>19538</td>\n",
       "      <td>49660</td>\n",
       "    </tr>\n",
       "    <tr>\n",
       "      <td>2019-12-31</td>\n",
       "      <td>14.55</td>\n",
       "      <td>68.77</td>\n",
       "      <td>209.11</td>\n",
       "      <td>14.58</td>\n",
       "      <td>68.77</td>\n",
       "      <td>210.62</td>\n",
       "      <td>14.49</td>\n",
       "      <td>68.49</td>\n",
       "      <td>209.11</td>\n",
       "      <td>14.50</td>\n",
       "      <td>68.75</td>\n",
       "      <td>210.49</td>\n",
       "      <td>14298022</td>\n",
       "      <td>59101</td>\n",
       "      <td>52928</td>\n",
       "    </tr>\n",
       "  </tbody>\n",
       "</table>\n",
       "<p>754 rows × 15 columns</p>\n",
       "</div>"
      ],
      "text/plain": [
       "Attributes   open                  high                   low                 \\\n",
       "Symbols       IAU    IXG     IXN    IAU    IXG     IXN    IAU    IXG     IXN   \n",
       "date                                                                           \n",
       "2017-01-03  11.09  58.43  110.60  11.22  58.76  111.25  11.05  58.23  110.18   \n",
       "2017-01-04  11.23  58.82  110.88  11.24  59.32  111.36  11.18  58.82  110.88   \n",
       "2017-01-05  11.33  59.21  111.40  11.42  59.32  111.80  11.33  58.91  111.39   \n",
       "2017-01-06  11.30  59.18  111.83  11.36  59.32  112.78  11.27  59.11  111.49   \n",
       "2017-01-09  11.35  58.95  112.59  11.42  59.00  113.12  11.34  58.66  112.59   \n",
       "...           ...    ...     ...    ...    ...     ...    ...    ...     ...   \n",
       "2019-12-24  14.25  68.53  209.42  14.34  68.53  209.42  14.25  68.40  208.72   \n",
       "2019-12-26  14.41  68.56  209.81  14.46  68.88  210.80  14.40  68.52  209.81   \n",
       "2019-12-27  14.44  69.06  211.85  14.49  69.06  211.85  14.43  68.83  210.72   \n",
       "2019-12-30  14.47  69.07  211.01  14.49  69.07  211.01  14.46  68.54  208.47   \n",
       "2019-12-31  14.55  68.77  209.11  14.58  68.77  210.62  14.49  68.49  209.11   \n",
       "\n",
       "Attributes  close                   volume                 \n",
       "Symbols       IAU    IXG     IXN       IAU     IXG    IXN  \n",
       "date                                                       \n",
       "2017-01-03  11.16  58.56  110.76   7937709  157301  80558  \n",
       "2017-01-04  11.21  59.32  111.21   8860361   94741  20009  \n",
       "2017-01-05  11.38  59.15  111.77  14333931   47266  41994  \n",
       "2017-01-06  11.30  59.21  112.58  10424990   14085  38068  \n",
       "2017-01-09  11.38  58.77  112.93   6615967   68358  33283  \n",
       "...           ...    ...     ...       ...     ...    ...  \n",
       "2019-12-24  14.33  68.40  209.11   5428963   25055  30179  \n",
       "2019-12-26  14.45  68.85  210.80   7138485   13732  30416  \n",
       "2019-12-27  14.44  68.86  211.18   7083072  107631  56752  \n",
       "2019-12-30  14.49  68.62  209.61  13269927   19538  49660  \n",
       "2019-12-31  14.50  68.75  210.49  14298022   59101  52928  \n",
       "\n",
       "[754 rows x 15 columns]"
      ]
     },
     "execution_count": 9,
     "metadata": {},
     "output_type": "execute_result"
    }
   ],
   "source": [
    "stock_data"
   ]
  },
  {
   "cell_type": "code",
   "execution_count": 10,
   "metadata": {},
   "outputs": [
    {
     "data": {
      "text/plain": [
       "pandas.core.frame.DataFrame"
      ]
     },
     "execution_count": 10,
     "metadata": {},
     "output_type": "execute_result"
    }
   ],
   "source": [
    "type(stock_data)"
   ]
  },
  {
   "cell_type": "markdown",
   "metadata": {},
   "source": [
    "We see that the data retrieved from IEX is a DataFrame.\n",
    "We see we have daily information of the `open`, `high`, `low`, `close`, and `volume` of our selected tickers in each row. \n",
    "\n",
    "The index of each row is the date which you can access using the `loc` method:"
   ]
  },
  {
   "cell_type": "code",
   "execution_count": 11,
   "metadata": {},
   "outputs": [
    {
     "data": {
      "text/plain": [
       "Attributes  Symbols\n",
       "open        IAU             11.09\n",
       "            IXG             58.43\n",
       "            IXN            110.60\n",
       "high        IAU             11.22\n",
       "            IXG             58.76\n",
       "            IXN            111.25\n",
       "low         IAU             11.05\n",
       "            IXG             58.23\n",
       "            IXN            110.18\n",
       "close       IAU             11.16\n",
       "            IXG             58.56\n",
       "            IXN            110.76\n",
       "volume      IAU        7937709.00\n",
       "            IXG         157301.00\n",
       "            IXN          80558.00\n",
       "Name: 2017-01-03, dtype: float64"
      ]
     },
     "execution_count": 11,
     "metadata": {},
     "output_type": "execute_result"
    }
   ],
   "source": [
    "stock_data.loc['2017-01-03']"
   ]
  },
  {
   "cell_type": "markdown",
   "metadata": {},
   "source": [
    "### Plot stock data\n",
    "Let us plot only the stock price at the daily **close** for each of our 3 tickers. We will use the `matplotlib` library for creating and viewing the plots.\n",
    "\n",
    "First, create the `close_price` object:"
   ]
  },
  {
   "cell_type": "code",
   "execution_count": 12,
   "metadata": {},
   "outputs": [],
   "source": [
    "close_price = stock_data['close']"
   ]
  },
  {
   "cell_type": "code",
   "execution_count": 13,
   "metadata": {},
   "outputs": [
    {
     "data": {
      "text/html": [
       "<div>\n",
       "<style scoped>\n",
       "    .dataframe tbody tr th:only-of-type {\n",
       "        vertical-align: middle;\n",
       "    }\n",
       "\n",
       "    .dataframe tbody tr th {\n",
       "        vertical-align: top;\n",
       "    }\n",
       "\n",
       "    .dataframe thead th {\n",
       "        text-align: right;\n",
       "    }\n",
       "</style>\n",
       "<table border=\"1\" class=\"dataframe\">\n",
       "  <thead>\n",
       "    <tr style=\"text-align: right;\">\n",
       "      <th>Symbols</th>\n",
       "      <th>IAU</th>\n",
       "      <th>IXG</th>\n",
       "      <th>IXN</th>\n",
       "    </tr>\n",
       "  </thead>\n",
       "  <tbody>\n",
       "    <tr>\n",
       "      <td>count</td>\n",
       "      <td>754.000000</td>\n",
       "      <td>754.000000</td>\n",
       "      <td>754.000000</td>\n",
       "    </tr>\n",
       "    <tr>\n",
       "      <td>mean</td>\n",
       "      <td>12.539377</td>\n",
       "      <td>64.786963</td>\n",
       "      <td>158.993289</td>\n",
       "    </tr>\n",
       "    <tr>\n",
       "      <td>std</td>\n",
       "      <td>0.840562</td>\n",
       "      <td>3.769483</td>\n",
       "      <td>21.989077</td>\n",
       "    </tr>\n",
       "    <tr>\n",
       "      <td>min</td>\n",
       "      <td>11.160000</td>\n",
       "      <td>54.200000</td>\n",
       "      <td>110.760000</td>\n",
       "    </tr>\n",
       "    <tr>\n",
       "      <td>25%</td>\n",
       "      <td>11.960000</td>\n",
       "      <td>61.860000</td>\n",
       "      <td>142.227500</td>\n",
       "    </tr>\n",
       "    <tr>\n",
       "      <td>50%</td>\n",
       "      <td>12.350000</td>\n",
       "      <td>64.460000</td>\n",
       "      <td>161.515000</td>\n",
       "    </tr>\n",
       "    <tr>\n",
       "      <td>75%</td>\n",
       "      <td>12.770000</td>\n",
       "      <td>67.327500</td>\n",
       "      <td>173.587500</td>\n",
       "    </tr>\n",
       "    <tr>\n",
       "      <td>max</td>\n",
       "      <td>14.880000</td>\n",
       "      <td>75.990000</td>\n",
       "      <td>211.180000</td>\n",
       "    </tr>\n",
       "  </tbody>\n",
       "</table>\n",
       "</div>"
      ],
      "text/plain": [
       "Symbols         IAU         IXG         IXN\n",
       "count    754.000000  754.000000  754.000000\n",
       "mean      12.539377   64.786963  158.993289\n",
       "std        0.840562    3.769483   21.989077\n",
       "min       11.160000   54.200000  110.760000\n",
       "25%       11.960000   61.860000  142.227500\n",
       "50%       12.350000   64.460000  161.515000\n",
       "75%       12.770000   67.327500  173.587500\n",
       "max       14.880000   75.990000  211.180000"
      ]
     },
     "execution_count": 13,
     "metadata": {},
     "output_type": "execute_result"
    }
   ],
   "source": [
    "close_price.describe()"
   ]
  },
  {
   "cell_type": "markdown",
   "metadata": {},
   "source": [
    "Recall that the `index` refers to the row labels in our DataFrame. We can get this list of row labels as follows:"
   ]
  },
  {
   "cell_type": "code",
   "execution_count": 15,
   "metadata": {},
   "outputs": [
    {
     "data": {
      "text/plain": [
       "Index(['2017-01-03', '2017-01-04', '2017-01-05', '2017-01-06', '2017-01-09',\n",
       "       '2017-01-10', '2017-01-11', '2017-01-12', '2017-01-13', '2017-01-17',\n",
       "       ...\n",
       "       '2019-12-17', '2019-12-18', '2019-12-19', '2019-12-20', '2019-12-23',\n",
       "       '2019-12-24', '2019-12-26', '2019-12-27', '2019-12-30', '2019-12-31'],\n",
       "      dtype='object', name='date', length=754)"
      ]
     },
     "execution_count": 15,
     "metadata": {},
     "output_type": "execute_result"
    }
   ],
   "source": [
    "close_price.index"
   ]
  },
  {
   "cell_type": "markdown",
   "metadata": {},
   "source": [
    "Now, let us plot the `close_price` for each of our 3 ETFs using the `matplotlib` library, imported as `plt`:"
   ]
  },
  {
   "cell_type": "code",
   "execution_count": 16,
   "metadata": {},
   "outputs": [
    {
     "data": {
      "image/png": "[encoded data removed]",
      "text/plain": [
       "<Figure size 1152x648 with 1 Axes>"
      ]
     },
     "metadata": {
      "needs_background": "light"
     },
     "output_type": "display_data"
    }
   ],
   "source": [
    "# Set our Figure size\n",
    "plt.figure(figsize=(16, 9))\n",
    "\n",
    "# Plot our data series with plt.plot(<x-axis>, <y-axis>, <label>)\n",
    "plt.plot(close_price.index, close_price['IAU'], label='Gold ETF')\n",
    "plt.plot(close_price.index, close_price['IXG'], label='Financials ETF')\n",
    "plt.plot(close_price.index, close_price['IXN'], label='Tech ETF')\n",
    "\n",
    "# Label our plots & add a legend\n",
    "plt.xlabel('Date')\n",
    "plt.ylabel('Closing price ($)')\n",
    "plt.legend()\n",
    "\n",
    "# Display our plot\n",
    "plt.show()"
   ]
  },
  {
   "cell_type": "markdown",
   "metadata": {},
   "source": [
    "So we see the Tech ETF timeseries, consisting of the daily close price, growing faster than the other 2 ETFs. However, this data can be quite noisy day-to-day. One way to try and smooth the curves out is by looking at a **moving average** of the daily close price. "
   ]
  },
  {
   "cell_type": "markdown",
   "metadata": {},
   "source": [
    "### Moving averages\n",
    "\n",
    "A useful timeseries to look at is the simple moving average of the stock time-series data over a **short** and **long** window. The moving average is just the rolling price average of the past X days and pandas has a built-in `rolling()` function. For a short window, we will use 20 days and for a long window, 100 days. \n",
    "\n",
    "Note: creating a moving average means that for a window of $X$ units, the **first $X-1$** units are not valid. For example, if $X = 20\\ days$, the data of the first 19 days is used to calculated the average for day 20. Day 21 is calculated using the prices from Day 2 to Day 21.\n",
    "\n",
    "The reason for introducing the concept of moving averages is that there are trading strategies based on the behaviour of moving averages of differet windows. \n",
    "\n",
    "We will do this first for just one of the tickers. Let us use `IXN` global tech ETF ticker:"
   ]
  },
  {
   "cell_type": "code",
   "execution_count": 20,
   "metadata": {},
   "outputs": [],
   "source": [
    "# Select only the IXN column\n",
    "ixn_close_price = close_price['IXN']\n",
    "\n",
    "# Calculate the short (20 day) window moving average timeseries\n",
    "short_window_ixn = ixn_close_price.rolling(window=20).mean()\n",
    "\n",
    "# Calculate the long (100 day) window moving average timeseries\n",
    "long_window_ixn = "
   ]
  },
  {
   "cell_type": "code",
   "execution_count": 18,
   "metadata": {},
   "outputs": [
    {
     "data": {
      "image/png": "[encoded data removed]",
      "text/plain": [
       "<Figure size 1152x648 with 1 Axes>"
      ]
     },
     "metadata": {
      "needs_background": "light"
     },
     "output_type": "display_data"
    }
   ],
   "source": [
    "# Now we plot the data\n",
    "\n",
    "# First, set the figure size\n",
    "plt.figure(figsize=(16, 9))\n",
    "\n",
    "# Plot our data series with plt.plot(<x-axis>, <y-axis>, <label>)\n",
    "\n",
    "# First, plot the daily IXN close price\n",
    "plt.plot(ixn_close_price.index, ixn_close_price, label='IXN - Global Tech ETF')\n",
    "# Now plot the IXN short window moving average\n",
    "plt.plot(..., label='20 days MA')\n",
    "# Now plot the IXN long window moving average\n",
    "plt.plot(..., label='100 days MA')\n",
    "\n",
    "# Label our plots & add a legend\n",
    "plt.xlabel('Date')\n",
    "plt.ylabel('Adjusted closing price ($)')\n",
    "plt.suptitle('Moving average of AMZN')\n",
    "plt.legend()\n",
    "\n",
    "# Display our plot\n",
    "plt.show()"
   ]
  },
  {
   "cell_type": "markdown",
   "metadata": {},
   "source": [
    "* Why do the short-window and long-window curves start later on the graph?\n",
    "* If you had to create a simple trading strategy based on the moving averages, when would you buy and when would you sell?\n",
    "\n",
    "* What do the graphs look like for our other 2 stock tickers?\n",
    "\n",
    "* For an interesting read on which moving average lines are popular and why, check out: https://www.investopedia.com/ask/answers/122414/what-are-most-common-periods-used-creating-moving-average-ma-lines.asp\n",
    "\n",
    "Next, we will take a look at a few simple but realistic quantitative trading strategies using Python pandas and the methods discussed above."
   ]
  },
  {
   "cell_type": "markdown",
   "metadata": {},
   "source": [
    "## Calculating returns\n",
    "\n",
    "We will use pandas to **calculate the returns** of our selected stocks. \n",
    "\n",
    "Just looking at the timeseries of price information has some drawbacks: \n",
    "* The price of a stock is only positive and so it gets messy if we use mathematical models and approaches which require or use negative numbers\n",
    "* Also, looking at price numbers over a long period of time results in statistical properties which are less stable. For example, note the huge standard deviations in the following:"
   ]
  },
  {
   "cell_type": "code",
   "execution_count": 21,
   "metadata": {},
   "outputs": [
    {
     "data": {
      "text/html": [
       "<div>\n",
       "<style scoped>\n",
       "    .dataframe tbody tr th:only-of-type {\n",
       "        vertical-align: middle;\n",
       "    }\n",
       "\n",
       "    .dataframe tbody tr th {\n",
       "        vertical-align: top;\n",
       "    }\n",
       "\n",
       "    .dataframe thead th {\n",
       "        text-align: right;\n",
       "    }\n",
       "</style>\n",
       "<table border=\"1\" class=\"dataframe\">\n",
       "  <thead>\n",
       "    <tr style=\"text-align: right;\">\n",
       "      <th>Symbols</th>\n",
       "      <th>IAU</th>\n",
       "      <th>IXG</th>\n",
       "      <th>IXN</th>\n",
       "    </tr>\n",
       "  </thead>\n",
       "  <tbody>\n",
       "    <tr>\n",
       "      <td>count</td>\n",
       "      <td>754.000000</td>\n",
       "      <td>754.000000</td>\n",
       "      <td>754.000000</td>\n",
       "    </tr>\n",
       "    <tr>\n",
       "      <td>mean</td>\n",
       "      <td>12.539377</td>\n",
       "      <td>64.786963</td>\n",
       "      <td>158.993289</td>\n",
       "    </tr>\n",
       "    <tr>\n",
       "      <td>std</td>\n",
       "      <td>0.840562</td>\n",
       "      <td>3.769483</td>\n",
       "      <td>21.989077</td>\n",
       "    </tr>\n",
       "    <tr>\n",
       "      <td>min</td>\n",
       "      <td>11.160000</td>\n",
       "      <td>54.200000</td>\n",
       "      <td>110.760000</td>\n",
       "    </tr>\n",
       "    <tr>\n",
       "      <td>25%</td>\n",
       "      <td>11.960000</td>\n",
       "      <td>61.860000</td>\n",
       "      <td>142.227500</td>\n",
       "    </tr>\n",
       "    <tr>\n",
       "      <td>50%</td>\n",
       "      <td>12.350000</td>\n",
       "      <td>64.460000</td>\n",
       "      <td>161.515000</td>\n",
       "    </tr>\n",
       "    <tr>\n",
       "      <td>75%</td>\n",
       "      <td>12.770000</td>\n",
       "      <td>67.327500</td>\n",
       "      <td>173.587500</td>\n",
       "    </tr>\n",
       "    <tr>\n",
       "      <td>max</td>\n",
       "      <td>14.880000</td>\n",
       "      <td>75.990000</td>\n",
       "      <td>211.180000</td>\n",
       "    </tr>\n",
       "  </tbody>\n",
       "</table>\n",
       "</div>"
      ],
      "text/plain": [
       "Symbols         IAU         IXG         IXN\n",
       "count    754.000000  754.000000  754.000000\n",
       "mean      12.539377   64.786963  158.993289\n",
       "std        0.840562    3.769483   21.989077\n",
       "min       11.160000   54.200000  110.760000\n",
       "25%       11.960000   61.860000  142.227500\n",
       "50%       12.350000   64.460000  161.515000\n",
       "75%       12.770000   67.327500  173.587500\n",
       "max       14.880000   75.990000  211.180000"
      ]
     },
     "execution_count": 21,
     "metadata": {},
     "output_type": "execute_result"
    }
   ],
   "source": [
    "close_price.describe()"
   ]
  },
  {
   "cell_type": "markdown",
   "metadata": {},
   "source": [
    "An alternative approach is to look at the **timeseries of the changes or delta in the daily close price** instead of the timeseries of the price itself. \n",
    "\n",
    "The most common delta timeseries used is:\n",
    "\n",
    "We have the **relative return**:\n",
    "> $relative \\_return(today) = \\frac{price(today) - price(today-1)} {price(today-1)}$\n",
    "\n",
    "which is simply the percent return over an incremental period of time such as a day.\n",
    "\n",
    "> **Note: this is a simplified version of the process of calculating `relative_returns`. For the correct and more detailed process, see the full version notes of this workshop!**\n",
    "\n",
    "\n",
    "Relative returns can easily be calculated with pandas:"
   ]
  },
  {
   "cell_type": "code",
   "execution_count": 22,
   "metadata": {},
   "outputs": [],
   "source": [
    "relative_returns = close_price.pct_change(1)"
   ]
  },
  {
   "cell_type": "code",
   "execution_count": 23,
   "metadata": {},
   "outputs": [
    {
     "data": {
      "text/html": [
       "<div>\n",
       "<style scoped>\n",
       "    .dataframe tbody tr th:only-of-type {\n",
       "        vertical-align: middle;\n",
       "    }\n",
       "\n",
       "    .dataframe tbody tr th {\n",
       "        vertical-align: top;\n",
       "    }\n",
       "\n",
       "    .dataframe thead th {\n",
       "        text-align: right;\n",
       "    }\n",
       "</style>\n",
       "<table border=\"1\" class=\"dataframe\">\n",
       "  <thead>\n",
       "    <tr style=\"text-align: right;\">\n",
       "      <th>Symbols</th>\n",
       "      <th>IAU</th>\n",
       "      <th>IXG</th>\n",
       "      <th>IXN</th>\n",
       "    </tr>\n",
       "    <tr>\n",
       "      <th>date</th>\n",
       "      <th></th>\n",
       "      <th></th>\n",
       "      <th></th>\n",
       "    </tr>\n",
       "  </thead>\n",
       "  <tbody>\n",
       "    <tr>\n",
       "      <td>2017-01-03</td>\n",
       "      <td>NaN</td>\n",
       "      <td>NaN</td>\n",
       "      <td>NaN</td>\n",
       "    </tr>\n",
       "    <tr>\n",
       "      <td>2017-01-04</td>\n",
       "      <td>0.004480</td>\n",
       "      <td>0.012978</td>\n",
       "      <td>0.004063</td>\n",
       "    </tr>\n",
       "    <tr>\n",
       "      <td>2017-01-05</td>\n",
       "      <td>0.015165</td>\n",
       "      <td>-0.002866</td>\n",
       "      <td>0.005036</td>\n",
       "    </tr>\n",
       "    <tr>\n",
       "      <td>2017-01-06</td>\n",
       "      <td>-0.007030</td>\n",
       "      <td>0.001014</td>\n",
       "      <td>0.007247</td>\n",
       "    </tr>\n",
       "    <tr>\n",
       "      <td>2017-01-09</td>\n",
       "      <td>0.007080</td>\n",
       "      <td>-0.007431</td>\n",
       "      <td>0.003109</td>\n",
       "    </tr>\n",
       "  </tbody>\n",
       "</table>\n",
       "</div>"
      ],
      "text/plain": [
       "Symbols          IAU       IXG       IXN\n",
       "date                                    \n",
       "2017-01-03       NaN       NaN       NaN\n",
       "2017-01-04  0.004480  0.012978  0.004063\n",
       "2017-01-05  0.015165 -0.002866  0.005036\n",
       "2017-01-06 -0.007030  0.001014  0.007247\n",
       "2017-01-09  0.007080 -0.007431  0.003109"
      ]
     },
     "execution_count": 23,
     "metadata": {},
     "output_type": "execute_result"
    }
   ],
   "source": [
    "# Let's look at the first few rows of our `relative_returns` DataFrame:\n",
    "relative_returns.head()"
   ]
  },
  {
   "cell_type": "markdown",
   "metadata": {},
   "source": [
    "The values in each cell represent the daily percent gain or loss from the previous day (note - need to multiply by 100 to actually get the percent number)"
   ]
  },
  {
   "cell_type": "markdown",
   "metadata": {},
   "source": [
    "Now instead of the individual daily returns, we want to keep a running total, or a cumulative sum, of our returns. So for example on `2017-01-09`, we want to know our total return since `2017-01-03`. \n",
    "\n",
    "With pandas, the cumulative sum is calculated by using the `cumsum()` method: "
   ]
  },
  {
   "cell_type": "code",
   "execution_count": 26,
   "metadata": {},
   "outputs": [],
   "source": [
    "cumulative_returns = relative_returns.cumsum()"
   ]
  },
  {
   "cell_type": "markdown",
   "metadata": {},
   "source": [
    "And let us see the bottom few rows of this cumulative returns DataFrame:"
   ]
  },
  {
   "cell_type": "code",
   "execution_count": 27,
   "metadata": {},
   "outputs": [
    {
     "data": {
      "text/html": [
       "<div>\n",
       "<style scoped>\n",
       "    .dataframe tbody tr th:only-of-type {\n",
       "        vertical-align: middle;\n",
       "    }\n",
       "\n",
       "    .dataframe tbody tr th {\n",
       "        vertical-align: top;\n",
       "    }\n",
       "\n",
       "    .dataframe thead th {\n",
       "        text-align: right;\n",
       "    }\n",
       "</style>\n",
       "<table border=\"1\" class=\"dataframe\">\n",
       "  <thead>\n",
       "    <tr style=\"text-align: right;\">\n",
       "      <th>Symbols</th>\n",
       "      <th>IAU</th>\n",
       "      <th>IXG</th>\n",
       "      <th>IXN</th>\n",
       "    </tr>\n",
       "    <tr>\n",
       "      <th>date</th>\n",
       "      <th></th>\n",
       "      <th></th>\n",
       "      <th></th>\n",
       "    </tr>\n",
       "  </thead>\n",
       "  <tbody>\n",
       "    <tr>\n",
       "      <td>2019-12-24</td>\n",
       "      <td>0.266390</td>\n",
       "      <td>0.183901</td>\n",
       "      <td>0.684878</td>\n",
       "    </tr>\n",
       "    <tr>\n",
       "      <td>2019-12-26</td>\n",
       "      <td>0.274764</td>\n",
       "      <td>0.190480</td>\n",
       "      <td>0.692959</td>\n",
       "    </tr>\n",
       "    <tr>\n",
       "      <td>2019-12-27</td>\n",
       "      <td>0.274072</td>\n",
       "      <td>0.190625</td>\n",
       "      <td>0.694762</td>\n",
       "    </tr>\n",
       "    <tr>\n",
       "      <td>2019-12-30</td>\n",
       "      <td>0.277535</td>\n",
       "      <td>0.187140</td>\n",
       "      <td>0.687328</td>\n",
       "    </tr>\n",
       "    <tr>\n",
       "      <td>2019-12-31</td>\n",
       "      <td>0.278225</td>\n",
       "      <td>0.189035</td>\n",
       "      <td>0.691526</td>\n",
       "    </tr>\n",
       "  </tbody>\n",
       "</table>\n",
       "</div>"
      ],
      "text/plain": [
       "Symbols          IAU       IXG       IXN\n",
       "date                                    \n",
       "2019-12-24  0.266390  0.183901  0.684878\n",
       "2019-12-26  0.274764  0.190480  0.692959\n",
       "2019-12-27  0.274072  0.190625  0.694762\n",
       "2019-12-30  0.277535  0.187140  0.687328\n",
       "2019-12-31  0.278225  0.189035  0.691526"
      ]
     },
     "execution_count": 27,
     "metadata": {},
     "output_type": "execute_result"
    }
   ],
   "source": [
    "cumulative_returns.tail()"
   ]
  },
  {
   "cell_type": "markdown",
   "metadata": {},
   "source": [
    "So now, we can see a timeseries of our total return for each stock on a daily basis! The above table shows us that the cumulative returns for *IXN - Global Tech ETF* is nearly 70% by Dec 31, 2019 and significantly higher than the Gold and Financial ETFs!"
   ]
  },
  {
   "cell_type": "markdown",
   "metadata": {},
   "source": [
    "Now, what if instead of the cumulative returns of each stock/ETF in our portfolio separately, we want to get the total cumulative returns? We can simply sum up across all our columns using the `sum(axis=1)` method on DataFrames mentioned before:"
   ]
  },
  {
   "cell_type": "code",
   "execution_count": 29,
   "metadata": {},
   "outputs": [
    {
     "data": {
      "text/plain": [
       "date\n",
       "2019-12-24    1.135169\n",
       "2019-12-26    1.158204\n",
       "2019-12-27    1.159460\n",
       "2019-12-30    1.152003\n",
       "2019-12-31    1.158785\n",
       "dtype: float64"
      ]
     },
     "execution_count": 29,
     "metadata": {},
     "output_type": "execute_result"
    }
   ],
   "source": [
    "cumulative_returns_portfolio = cumulative_returns.sum(axis=1)\n",
    "cumulative_returns_portfolio.tail()"
   ]
  },
  {
   "cell_type": "markdown",
   "metadata": {},
   "source": [
    "So the total cumulative return of our portfolio (adding across IAU, IXG and IXN) is 115.8% on Dec 31, 2019.\n",
    "\n",
    "Now let us plot this total cumulative return timeseries:"
   ]
  },
  {
   "cell_type": "code",
   "execution_count": 36,
   "metadata": {},
   "outputs": [
    {
     "data": {
      "image/png": "[encoded data removed]",
      "text/plain": [
       "<Figure size 1152x648 with 1 Axes>"
      ]
     },
     "metadata": {
      "needs_background": "light"
     },
     "output_type": "display_data"
    }
   ],
   "source": [
    "# First, set the figure size\n",
    "plt.figure(figsize=(16, 9))\n",
    "\n",
    "# Plot our data series with plt.plot(<x-axis>, <y-axis>, <label>)\n",
    "plt.plot(cumulative_returns_portfolio.index, 100*cumulative_returns_portfolio, label=\"Portfolio Return\")\n",
    "\n",
    "# Label our plots & add a legend\n",
    "plt.ylabel('Cumulative portfolio returns (%)')\n",
    "plt.legend()\n",
    "\n",
    "# Display our plot\n",
    "plt.show()"
   ]
  },
  {
   "cell_type": "markdown",
   "metadata": {},
   "source": [
    "Now we have the ability to dissect any stock price ticker into its daily returns and then calculate the **cumulative** return for the entire portfolio over a defined time period!"
   ]
  },
  {
   "cell_type": "markdown",
   "metadata": {},
   "source": [
    "### Apply Moving Averages on Cumulative Returns Timeseries\n",
    "\n",
    "Now that we have our plot of the daily cumulative returns of our portfolio, let us determine the short (20 day) window Moving Average and long (100 day) window Moving average to see if those curves indicate any trends containing buy/sell signals.\n",
    "\n",
    "First, we calculate the moving averages:"
   ]
  },
  {
   "cell_type": "code",
   "execution_count": 34,
   "metadata": {},
   "outputs": [],
   "source": [
    "short_window_portfolio = cumulative_returns_portfolio.rolling(window=20).mean()\n",
    "long_window_portfolio = cumulative_returns_portfolio.rolling(window=100).mean()"
   ]
  },
  {
   "cell_type": "markdown",
   "metadata": {},
   "source": [
    "Then we add the plots of these timeseries to the cumulative returns plot from before:"
   ]
  },
  {
   "cell_type": "code",
   "execution_count": 37,
   "metadata": {},
   "outputs": [
    {
     "data": {
      "image/png": "[encoded data removed]",
      "text/plain": [
       "<Figure size 1152x648 with 1 Axes>"
      ]
     },
     "metadata": {
      "needs_background": "light"
     },
     "output_type": "display_data"
    }
   ],
   "source": [
    "# First, set the figure size\n",
    "plt.figure(figsize=(16, 9))\n",
    "\n",
    "# Plot our data series with plt.plot(<x-axis>, <y-axis>, <label>)\n",
    "plt.plot(cumulative_returns_portfolio.index, 100*cumulative_returns_portfolio, label=\"Portfolio Return\")\n",
    "plt.plot(short_window_portfolio.index, 100*short_window_portfolio, label=\"20 day MA Portfolio Return\")\n",
    "plt.plot(long_window_portfolio.index, 100*long_window_portfolio, label=\"100 day MA Portfolio Return\")\n",
    "\n",
    "# Label our plots & add a legend\n",
    "plt.ylabel('Cumulative portfolio returns (%)')\n",
    "plt.legend()\n",
    "\n",
    "# Display our plot\n",
    "plt.show()"
   ]
  },
  {
   "cell_type": "markdown",
   "metadata": {},
   "source": [
    "Now, how do we actually identify the exact times where the 20 day moving average crosses the 100 day moving average? \n",
    "\n",
    "Well, if we take the difference of the `short_window_portfolio` and `long_window_portfolio` series, then the first time this difference series is less than 0 is our first intersection point! And similarly, the last timestamp in this difference series is when the `short_window_portfolio` curve goes back above the `long_window_portfolio`. \n",
    "\n",
    "To calculate the difference, simply do:"
   ]
  },
  {
   "cell_type": "code",
   "execution_count": 71,
   "metadata": {},
   "outputs": [],
   "source": [
    "short_long_diff = short_window_portfolio - long_window_portfolio"
   ]
  },
  {
   "cell_type": "markdown",
   "metadata": {},
   "source": [
    "Then, we filter the `short_long_diff` series for values less than 0:"
   ]
  },
  {
   "cell_type": "code",
   "execution_count": 73,
   "metadata": {},
   "outputs": [
    {
     "data": {
      "text/plain": [
       "date\n",
       "2018-04-16   -0.002248\n",
       "2018-04-17   -0.003803\n",
       "2018-04-18   -0.005257\n",
       "2018-04-19   -0.007497\n",
       "2018-04-20   -0.007466\n",
       "                ...   \n",
       "2019-01-29   -0.048047\n",
       "2019-01-30   -0.037960\n",
       "2019-01-31   -0.028333\n",
       "2019-02-01   -0.016151\n",
       "2019-02-04   -0.006677\n",
       "Length: 203, dtype: float64"
      ]
     },
     "execution_count": 73,
     "metadata": {},
     "output_type": "execute_result"
    }
   ],
   "source": [
    "intersections = short_long_diff[short_long_diff < 0]\n",
    "intersections"
   ]
  },
  {
   "cell_type": "markdown",
   "metadata": {},
   "source": [
    "So, the first date of the intersection is `2018-04-16` and the last date is `2019-02-04`!\n",
    "\n",
    "So if we sold our portfolio on `2018-04-16`, the cumulative return on that date would be:"
   ]
  },
  {
   "cell_type": "code",
   "execution_count": 74,
   "metadata": {},
   "outputs": [
    {
     "data": {
      "text/plain": [
       "0.7221530728421649"
      ]
     },
     "execution_count": 74,
     "metadata": {},
     "output_type": "execute_result"
    }
   ],
   "source": [
    "cumulative_returns_portfolio.loc['2018-04-16']"
   ]
  },
  {
   "cell_type": "markdown",
   "metadata": {},
   "source": [
    "Q) what would be our current portfolio return to Dec 31, 2019 (the last date of our stock data) if we bought back in on `2019-02-04` when the short-window moving average curve crossed the long-window MA going upwards?"
   ]
  },
  {
   "cell_type": "code",
   "execution_count": 75,
   "metadata": {},
   "outputs": [
    {
     "data": {
      "text/plain": [
       "0.5635050972891688"
      ]
     },
     "execution_count": 75,
     "metadata": {},
     "output_type": "execute_result"
    }
   ],
   "source": [
    "cumulative_returns_portfolio.loc['2019-12-31'] - cumulative_returns_portfolio.loc['2019-02-04']"
   ]
  },
  {
   "cell_type": "markdown",
   "metadata": {},
   "source": [
    "## Defining a Weights Trading Strategy\n",
    "\n",
    "In defining a weights trading strategy, we want to derive a set of weights which we will apply to different assets in our portfolio and compare returns over a period of time. So given a certain amount of dollars $N$ we have $w_1(t)$ and $w_2(t)$ where the sum of those two is less than or equal to 1. \n",
    "\n",
    "For example, assume we can invest in 2 assets only and that $N=\\$1000$. If $w_1(t)=0.4$ and $w_2(t)=0.6$, this means that we have invested $w_1(t)N=\\$400$ in asset 1 and $w_2(t)N=\\$600$ in asset 2. \n",
    "\n",
    "Note - We won't go into short selling here but you can also have negative weights representing **short positions**. \n",
    "\n",
    "### Equal Weights Strategy\n",
    "Let us look at how to calculate the return of our trading strategy for using **equal weights**.\n",
    "\n",
    "First, let us look at just a single day, the last day, of our *relative_returns* timeseries separated by individual tickers:"
   ]
  },
  {
   "cell_type": "code",
   "execution_count": 76,
   "metadata": {},
   "outputs": [
    {
     "data": {
      "text/html": [
       "<div>\n",
       "<style scoped>\n",
       "    .dataframe tbody tr th:only-of-type {\n",
       "        vertical-align: middle;\n",
       "    }\n",
       "\n",
       "    .dataframe tbody tr th {\n",
       "        vertical-align: top;\n",
       "    }\n",
       "\n",
       "    .dataframe thead th {\n",
       "        text-align: right;\n",
       "    }\n",
       "</style>\n",
       "<table border=\"1\" class=\"dataframe\">\n",
       "  <thead>\n",
       "    <tr style=\"text-align: right;\">\n",
       "      <th>Symbols</th>\n",
       "      <th>IAU</th>\n",
       "      <th>IXG</th>\n",
       "      <th>IXN</th>\n",
       "    </tr>\n",
       "    <tr>\n",
       "      <th>date</th>\n",
       "      <th></th>\n",
       "      <th></th>\n",
       "      <th></th>\n",
       "    </tr>\n",
       "  </thead>\n",
       "  <tbody>\n",
       "    <tr>\n",
       "      <td>2019-12-31</td>\n",
       "      <td>0.00069</td>\n",
       "      <td>0.001894</td>\n",
       "      <td>0.004198</td>\n",
       "    </tr>\n",
       "  </tbody>\n",
       "</table>\n",
       "</div>"
      ],
      "text/plain": [
       "Symbols         IAU       IXG       IXN\n",
       "date                                   \n",
       "2019-12-31  0.00069  0.001894  0.004198"
      ]
     },
     "execution_count": 76,
     "metadata": {},
     "output_type": "execute_result"
    }
   ],
   "source": [
    "last_day = relative_returns.tail(1)\n",
    "last_day"
   ]
  },
  {
   "cell_type": "markdown",
   "metadata": {},
   "source": [
    "This gives us back just a single row, or vector. \n",
    "\n",
    "Now, we will create an **equal weights** vector for all 3 stocks (i.e. a weighting of $1/3$) using the same index and columns as our `last_day` vector:"
   ]
  },
  {
   "cell_type": "code",
   "execution_count": 87,
   "metadata": {},
   "outputs": [],
   "source": [
    "equal_weights_list = [1/3, 1/3, 1/3]"
   ]
  },
  {
   "cell_type": "code",
   "execution_count": 88,
   "metadata": {},
   "outputs": [
    {
     "data": {
      "text/html": [
       "<div>\n",
       "<style scoped>\n",
       "    .dataframe tbody tr th:only-of-type {\n",
       "        vertical-align: middle;\n",
       "    }\n",
       "\n",
       "    .dataframe tbody tr th {\n",
       "        vertical-align: top;\n",
       "    }\n",
       "\n",
       "    .dataframe thead th {\n",
       "        text-align: right;\n",
       "    }\n",
       "</style>\n",
       "<table border=\"1\" class=\"dataframe\">\n",
       "  <thead>\n",
       "    <tr style=\"text-align: right;\">\n",
       "      <th>Symbols</th>\n",
       "      <th>IAU</th>\n",
       "      <th>IXG</th>\n",
       "      <th>IXN</th>\n",
       "    </tr>\n",
       "    <tr>\n",
       "      <th>date</th>\n",
       "      <th></th>\n",
       "      <th></th>\n",
       "      <th></th>\n",
       "    </tr>\n",
       "  </thead>\n",
       "  <tbody>\n",
       "    <tr>\n",
       "      <td>2019-12-31</td>\n",
       "      <td>0.333333</td>\n",
       "      <td>0.333333</td>\n",
       "      <td>0.333333</td>\n",
       "    </tr>\n",
       "  </tbody>\n",
       "</table>\n",
       "</div>"
      ],
      "text/plain": [
       "Symbols          IAU       IXG       IXN\n",
       "date                                    \n",
       "2019-12-31  0.333333  0.333333  0.333333"
      ]
     },
     "execution_count": 88,
     "metadata": {},
     "output_type": "execute_result"
    }
   ],
   "source": [
    "weights_vector = pd.DataFrame([equal_weights_list], index=last_day.index, columns=last_day.columns)\n",
    "weights_vector"
   ]
  },
  {
   "cell_type": "markdown",
   "metadata": {},
   "source": [
    "Now, we want to **multiply** the weight of each stock times the `last_day` return for that stock to determine how much we would actually get for a single day with this equal weight trading strategy. In order to do this multiplication we simply do:"
   ]
  },
  {
   "cell_type": "code",
   "execution_count": 82,
   "metadata": {},
   "outputs": [
    {
     "data": {
      "text/html": [
       "<div>\n",
       "<style scoped>\n",
       "    .dataframe tbody tr th:only-of-type {\n",
       "        vertical-align: middle;\n",
       "    }\n",
       "\n",
       "    .dataframe tbody tr th {\n",
       "        vertical-align: top;\n",
       "    }\n",
       "\n",
       "    .dataframe thead th {\n",
       "        text-align: right;\n",
       "    }\n",
       "</style>\n",
       "<table border=\"1\" class=\"dataframe\">\n",
       "  <thead>\n",
       "    <tr style=\"text-align: right;\">\n",
       "      <th>Symbols</th>\n",
       "      <th>IAU</th>\n",
       "      <th>IXG</th>\n",
       "      <th>IXN</th>\n",
       "    </tr>\n",
       "    <tr>\n",
       "      <th>date</th>\n",
       "      <th></th>\n",
       "      <th></th>\n",
       "      <th></th>\n",
       "    </tr>\n",
       "  </thead>\n",
       "  <tbody>\n",
       "    <tr>\n",
       "      <td>2019-12-31</td>\n",
       "      <td>0.00023</td>\n",
       "      <td>0.000631</td>\n",
       "      <td>0.001399</td>\n",
       "    </tr>\n",
       "  </tbody>\n",
       "</table>\n",
       "</div>"
      ],
      "text/plain": [
       "Symbols         IAU       IXG       IXN\n",
       "date                                   \n",
       "2019-12-31  0.00023  0.000631  0.001399"
      ]
     },
     "execution_count": 82,
     "metadata": {},
     "output_type": "execute_result"
    }
   ],
   "source": [
    "weights_vector*last_day"
   ]
  },
  {
   "cell_type": "markdown",
   "metadata": {},
   "source": [
    "And if we want the sum across all stocks, just sum up across all the columns like before with `sum(axis=1)`"
   ]
  },
  {
   "cell_type": "code",
   "execution_count": 89,
   "metadata": {},
   "outputs": [
    {
     "data": {
      "text/plain": [
       "date\n",
       "2019-12-31    0.002261\n",
       "dtype: float64"
      ]
     },
     "execution_count": 89,
     "metadata": {},
     "output_type": "execute_result"
    }
   ],
   "source": [
    "(weights_vector*last_day).sum(axis=1)"
   ]
  },
  {
   "cell_type": "markdown",
   "metadata": {},
   "source": [
    "So this is the portfolio return on a single day, from the previous day, using our $1/3$ weighting strategy for the 3 specific stocks we have picked. \n",
    "\n",
    "**Now, let us do this for the entire period between our start and end dates:**"
   ]
  },
  {
   "cell_type": "code",
   "execution_count": 90,
   "metadata": {},
   "outputs": [
    {
     "data": {
      "text/plain": [
       "date\n",
       "2019-12-24    0.002122\n",
       "2019-12-26    0.007678\n",
       "2019-12-27    0.000419\n",
       "2019-12-30   -0.002486\n",
       "2019-12-31    0.002261\n",
       "dtype: float64"
      ]
     },
     "execution_count": 90,
     "metadata": {},
     "output_type": "execute_result"
    }
   ],
   "source": [
    "equal_weights = pd.DataFrame([equal_weights_list], index=relative_returns.index, columns=relative_returns.columns)\n",
    "equal_strategy_relative_returns = (equal_weights*relative_returns).sum(axis=1)\n",
    "\n",
    "# Let's look at the last few rows:\n",
    "equal_strategy_relative_returns.tail()"
   ]
  },
  {
   "cell_type": "markdown",
   "metadata": {},
   "source": [
    "And now we calculate the cumulative return for the entire timeseries using this strategy:"
   ]
  },
  {
   "cell_type": "code",
   "execution_count": 91,
   "metadata": {},
   "outputs": [
    {
     "data": {
      "text/plain": [
       "date\n",
       "2019-12-24    0.378390\n",
       "2019-12-26    0.386068\n",
       "2019-12-27    0.386487\n",
       "2019-12-30    0.384001\n",
       "2019-12-31    0.386262\n",
       "dtype: float64"
      ]
     },
     "execution_count": 91,
     "metadata": {},
     "output_type": "execute_result"
    }
   ],
   "source": [
    "cumulative_equal_weights_returns = equal_strategy_relative_returns.cumsum()\n",
    "\n",
    "# Let's look at the last few rows:\n",
    "cumulative_equal_weights_returns.tail()"
   ]
  },
  {
   "cell_type": "markdown",
   "metadata": {},
   "source": [
    "So with an equal weighting strategy on our ETF stocks: IAU, IXG, IXN, we get a 38.6% return by Dec 31, 2019.\n",
    "\n",
    "Now what about a custom weights strategy?\n",
    "\n",
    "### Equal vs. Custom Weights Strategy\n",
    "Let us look at how to calculate the return of our trading strategy for using custom weights and then plot and compare the two. \n",
    "\n",
    "Let's say we are friends with Jeff Bezos so we invest more with the Tech ETF - IXN. So say now our custom_weights_list is defined as:"
   ]
  },
  {
   "cell_type": "code",
   "execution_count": 93,
   "metadata": {},
   "outputs": [],
   "source": [
    "custom_weights_list = [1/5, 1/5, 3/5]"
   ]
  },
  {
   "cell_type": "markdown",
   "metadata": {},
   "source": [
    "And so our custom_weights DataFrame is created with: "
   ]
  },
  {
   "cell_type": "code",
   "execution_count": 95,
   "metadata": {},
   "outputs": [],
   "source": [
    "custom_weights = pd.DataFrame([custom_weights_list], index=relative_returns.index, columns=relative_returns.columns)"
   ]
  },
  {
   "cell_type": "markdown",
   "metadata": {},
   "source": [
    "Which looks like:"
   ]
  },
  {
   "cell_type": "code",
   "execution_count": 97,
   "metadata": {},
   "outputs": [
    {
     "data": {
      "text/html": [
       "<div>\n",
       "<style scoped>\n",
       "    .dataframe tbody tr th:only-of-type {\n",
       "        vertical-align: middle;\n",
       "    }\n",
       "\n",
       "    .dataframe tbody tr th {\n",
       "        vertical-align: top;\n",
       "    }\n",
       "\n",
       "    .dataframe thead th {\n",
       "        text-align: right;\n",
       "    }\n",
       "</style>\n",
       "<table border=\"1\" class=\"dataframe\">\n",
       "  <thead>\n",
       "    <tr style=\"text-align: right;\">\n",
       "      <th>Symbols</th>\n",
       "      <th>IAU</th>\n",
       "      <th>IXG</th>\n",
       "      <th>IXN</th>\n",
       "    </tr>\n",
       "    <tr>\n",
       "      <th>date</th>\n",
       "      <th></th>\n",
       "      <th></th>\n",
       "      <th></th>\n",
       "    </tr>\n",
       "  </thead>\n",
       "  <tbody>\n",
       "    <tr>\n",
       "      <td>2017-01-03</td>\n",
       "      <td>0.2</td>\n",
       "      <td>0.2</td>\n",
       "      <td>0.6</td>\n",
       "    </tr>\n",
       "    <tr>\n",
       "      <td>2017-01-04</td>\n",
       "      <td>0.2</td>\n",
       "      <td>0.2</td>\n",
       "      <td>0.6</td>\n",
       "    </tr>\n",
       "    <tr>\n",
       "      <td>2017-01-05</td>\n",
       "      <td>0.2</td>\n",
       "      <td>0.2</td>\n",
       "      <td>0.6</td>\n",
       "    </tr>\n",
       "    <tr>\n",
       "      <td>2017-01-06</td>\n",
       "      <td>0.2</td>\n",
       "      <td>0.2</td>\n",
       "      <td>0.6</td>\n",
       "    </tr>\n",
       "    <tr>\n",
       "      <td>2017-01-09</td>\n",
       "      <td>0.2</td>\n",
       "      <td>0.2</td>\n",
       "      <td>0.6</td>\n",
       "    </tr>\n",
       "  </tbody>\n",
       "</table>\n",
       "</div>"
      ],
      "text/plain": [
       "Symbols     IAU  IXG  IXN\n",
       "date                     \n",
       "2017-01-03  0.2  0.2  0.6\n",
       "2017-01-04  0.2  0.2  0.6\n",
       "2017-01-05  0.2  0.2  0.6\n",
       "2017-01-06  0.2  0.2  0.6\n",
       "2017-01-09  0.2  0.2  0.6"
      ]
     },
     "execution_count": 97,
     "metadata": {},
     "output_type": "execute_result"
    }
   ],
   "source": [
    "custom_weights.head()"
   ]
  },
  {
   "cell_type": "markdown",
   "metadata": {},
   "source": [
    "Then, we calculate our weighted relative returns and use the `cumsum()` function to get the cumulative returns series:"
   ]
  },
  {
   "cell_type": "code",
   "execution_count": 99,
   "metadata": {},
   "outputs": [
    {
     "data": {
      "text/plain": [
       "date\n",
       "2019-12-24    0.500985\n",
       "2019-12-26    0.508825\n",
       "2019-12-27    0.509797\n",
       "2019-12-30    0.505332\n",
       "2019-12-31    0.508367\n",
       "dtype: float64"
      ]
     },
     "execution_count": 99,
     "metadata": {},
     "output_type": "execute_result"
    }
   ],
   "source": [
    "# First our custom strategy relative returns, added across our columns\n",
    "custom_strategy_relative_returns =(custom_weights*relative_returns).sum(axis=1)\n",
    "\n",
    "# Then, calculate our cumulative sum\n",
    "cumulative_custom_weights_returns = custom_strategy_relative_returns.cumsum()\n",
    "\n",
    "# Let's see our bottom few rows of this series:\n",
    "cumulative_custom_weights_returns.tail()"
   ]
  },
  {
   "cell_type": "markdown",
   "metadata": {},
   "source": [
    "Let us now plot the equal weights and custom weights relative_returns series to compare performance:"
   ]
  },
  {
   "cell_type": "code",
   "execution_count": 100,
   "metadata": {},
   "outputs": [
    {
     "data": {
      "image/png": "[encoded data removed]",
      "text/plain": [
       "<Figure size 1152x648 with 1 Axes>"
      ]
     },
     "metadata": {
      "needs_background": "light"
     },
     "output_type": "display_data"
    }
   ],
   "source": [
    "# First, set the figure size\n",
    "plt.figure(figsize=(16, 9))\n",
    "\n",
    "# Plot our data series with plt.plot(<x-axis>, <y-axis>, <label>)\n",
    "plt.plot(cumulative_equal_weights_returns.index, 100*cumulative_equal_weights_returns, label='equal strategy')\n",
    "plt.plot(cumulative_custom_weights_returns.index, 100*cumulative_custom_weights_returns, label='custom strategy')\n",
    "\n",
    "# Add our plot labels and legend\n",
    "plt.ylabel('Total relative returns (%)')\n",
    "plt.legend()\n",
    "\n",
    "# Display our plot\n",
    "plt.show()"
   ]
  },
  {
   "cell_type": "markdown",
   "metadata": {},
   "source": [
    "So we see that over the course of our selected time period, the custom (Tech-heavy) strategy tends to perform better overall."
   ]
  },
  {
   "cell_type": "markdown",
   "metadata": {},
   "source": [
    "Let us write a quick function to calculate and print out some basic yearly statistics:"
   ]
  },
  {
   "cell_type": "code",
   "execution_count": 101,
   "metadata": {},
   "outputs": [],
   "source": [
    "def print_portfolio_yearly_statistics(portfolio_cumulative_relative_returns, days_per_year = 52 * 5):\n",
    "\n",
    "    total_days_in_simulation = portfolio_cumulative_relative_returns.shape[0]\n",
    "    number_of_years = total_days_in_simulation / days_per_year\n",
    "\n",
    "    # The last data point will give us the total portfolio return\n",
    "    total_portfolio_return = portfolio_cumulative_relative_returns[-1]\n",
    "    \n",
    "    # Average portfolio return assuming compunding of returns\n",
    "    average_yearly_return = (1 + total_portfolio_return)**(1/number_of_years) - 1\n",
    "\n",
    "    print('Total portfolio return is: ' + '{:5.2f}'.format(100*total_portfolio_return) + '%')\n",
    "    print('Average yearly return is: ' + '{:5.2f}'.format(100*average_yearly_return) + '%')"
   ]
  },
  {
   "cell_type": "markdown",
   "metadata": {},
   "source": [
    "First our equal weights strategy statistics:"
   ]
  },
  {
   "cell_type": "code",
   "execution_count": 102,
   "metadata": {},
   "outputs": [
    {
     "name": "stdout",
     "output_type": "stream",
     "text": [
      "Total portfolio return is: 38.63%\n",
      "Average yearly return is: 11.92%\n"
     ]
    }
   ],
   "source": [
    "print_portfolio_yearly_statistics(cumulative_equal_weights_returns)"
   ]
  },
  {
   "cell_type": "code",
   "execution_count": 103,
   "metadata": {},
   "outputs": [
    {
     "name": "stdout",
     "output_type": "stream",
     "text": [
      "Total portfolio return is: 50.84%\n",
      "Average yearly return is: 15.23%\n"
     ]
    }
   ],
   "source": [
    "print_portfolio_yearly_statistics(cumulative_custom_weights_returns)"
   ]
  },
  {
   "cell_type": "markdown",
   "metadata": {},
   "source": [
    "### Exercise\n",
    "\n",
    "You have the following 5 ETF stock tickers for their corresponding sectors:\n",
    "* IAU - Gold Trust\n",
    "* IXC - Global Energy\n",
    "* IXG - Global Financials\n",
    "* IXJ - Global Healthcare\n",
    "* IXN - Global Tech\n",
    "\n",
    "> Come up with best weightings using at least 2 of these 5 ETFs which produce the greatest average yearly returns since Jan 1, 2016."
   ]
  }
 ],
 "metadata": {
  "kernelspec": {
   "display_name": "Python 3",
   "language": "python",
   "name": "python3"
  },
  "language_info": {
   "codemirror_mode": {
    "name": "ipython",
    "version": 3
   },
   "file_extension": ".py",
   "mimetype": "text/x-python",
   "name": "python",
   "nbconvert_exporter": "python",
   "pygments_lexer": "ipython3",
   "version": "3.7.4"
  }
 },
 "nbformat": 4,
 "nbformat_minor": 2
}
